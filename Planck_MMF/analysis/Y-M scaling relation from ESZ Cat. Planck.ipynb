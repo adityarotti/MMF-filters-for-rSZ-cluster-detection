{
 "cells": [
  {
   "cell_type": "code",
   "execution_count": 1,
   "metadata": {
    "collapsed": false,
    "deletable": true,
    "editable": true
   },
   "outputs": [
    {
     "name": "stdout",
     "output_type": "stream",
     "text": [
      "Populating the interactive namespace from numpy and matplotlib\n"
     ]
    }
   ],
   "source": [
    "from modules.settings import global_mmf_settings as gset\n",
    "from modules import parallel_Y_M_scaling_reln as ymsr\n",
    "from modules.settings import global_mmf_settings as gset\n",
    "from cosmology import cosmo_fn\n",
    "import multiprocessing as mp\n",
    "from scipy.optimize import curve_fit\n",
    "import bces.bces as bces\n",
    "import time\n",
    "\n",
    "%pylab notebook\n",
    "\n",
    "def return_log_err(gauss_mean,gauss_err,num_samples=20000,ignore_negatives=True):\n",
    "    logerr=np.zeros_like(gauss_mean)\n",
    "    for idx, mu in enumerate(gauss_mean):\n",
    "        x=np.random.normal(mu,gauss_err[idx],num_samples)\n",
    "        if ignore_negatives:\n",
    "            while np.any(x<0):\n",
    "                neg_idx=np.where(x<0)[0]\n",
    "                x[neg_idx]=np.random.normal(mu,gauss_err[idx],np.size(neg_idx))\n",
    "        logerr[idx]=np.std(log10(x))\n",
    "    return logerr"
   ]
  },
  {
   "cell_type": "markdown",
   "metadata": {
    "deletable": true,
    "editable": true
   },
   "source": [
    "# Initialize MMF analysis"
   ]
  },
  {
   "cell_type": "code",
   "execution_count": 2,
   "metadata": {
    "collapsed": false,
    "deletable": true,
    "editable": true
   },
   "outputs": [],
   "source": [
    "outpath=\"../results/planck_esz/\"\n",
    "gset.setup_mmf_config(outpath=outpath,chmin=100.,xsize=10.,result_midfix=\"random_thet500\")\n",
    "figpath=gset.mmfset.paths[\"result_figs\"]\n",
    "pmmf=ymsr.Y_M_scaling()\n",
    "xsz_cat=pmmf.xsz_cat\n",
    "\n",
    "def wrap_eval_Y500_xray_prior(idx):\n",
    "    result=pmmf.eval_Y500_xray_prior(idx)\n",
    "    return result\n",
    "\n",
    "def parallel_eval_Y500_xray_prior(numprocs):\n",
    "    pool=mp.Pool(processes=numprocs)\n",
    "    result=pool.map(wrap_eval_Y500_xray_prior,pmmf.idx_list)\n",
    "    pool.close()\n",
    "    pool.join()\n",
    "    return np.array(result)\n",
    "\n",
    "def wrap_eval_Y500_blind(idx):\n",
    "    result=pmmf.eval_Y500_blind(idx)\n",
    "    return result\n",
    "\n",
    "def parallel_eval_Y500_blind(numprocs):\n",
    "    pool=mp.Pool(processes=numprocs)\n",
    "    result=pool.map(wrap_eval_Y500_blind,pmmf.idx_list)\n",
    "    pool.close()\n",
    "    pool.join()\n",
    "    return np.array(result)"
   ]
  },
  {
   "cell_type": "markdown",
   "metadata": {
    "deletable": true,
    "editable": true
   },
   "source": [
    "# MMF analysis with X-ray prior on location, size and temperature of cluster"
   ]
  },
  {
   "cell_type": "code",
   "execution_count": null,
   "metadata": {
    "collapsed": false,
    "deletable": true,
    "editable": true,
    "scrolled": false
   },
   "outputs": [
    {
     "name": "stdout",
     "output_type": "stream",
     "text": [
      "66.6810600758\n"
     ]
    }
   ],
   "source": [
    "start=time.time()\n",
    "result=parallel_eval_Y500_xray_prior(8)\n",
    "print time.time()-start\n",
    "\n",
    "dtype=[\"idx\",\"theta500\",\"T500\",\"YSZ_500\",\"YSZ_500_err\",\"YSZ_500_Tc\",\"YSZ_500_err_Tc\"]\n",
    "fxsz_cat={}\n",
    "for i, d in enumerate(dtype):\n",
    "    fxsz_cat[d]=result[:,i]"
   ]
  },
  {
   "cell_type": "markdown",
   "metadata": {
    "deletable": true,
    "editable": true
   },
   "source": [
    "# Blind MMF analysis"
   ]
  },
  {
   "cell_type": "code",
   "execution_count": null,
   "metadata": {
    "collapsed": false,
    "deletable": true,
    "editable": true
   },
   "outputs": [],
   "source": [
    "start=time.time()\n",
    "bresult=parallel_eval_Y500_blind(8)\n",
    "print time.time()-start\n",
    "dtype=[\"idx\",\"theta500\",\"T500\",\"YSZ_500\",\"YSZ_500_err\",\"YSZ_500_Tc\",\"YSZ_500_Tc_err\"]\n",
    "bxsz_cat={}\n",
    "for i, d in enumerate(dtype):\n",
    "    bxsz_cat[d]=bresult[:,i]"
   ]
  },
  {
   "cell_type": "markdown",
   "metadata": {
    "deletable": true,
    "editable": true
   },
   "source": [
    "# Results xray priors"
   ]
  },
  {
   "cell_type": "markdown",
   "metadata": {
    "deletable": true,
    "editable": true
   },
   "source": [
    "## Figures for null tests"
   ]
  },
  {
   "cell_type": "code",
   "execution_count": null,
   "metadata": {
    "collapsed": false,
    "deletable": true,
    "editable": true
   },
   "outputs": [],
   "source": [
    "x=logspace(-5,-3.3,100)\n",
    "figure()\n",
    "lbl=\"X-ray priors\"\n",
    "errorbar(xsz_cat[\"YSZ_500\"],fxsz_cat[\"YSZ_500\"],xerr=xsz_cat[\"YSZ_500_err\"],yerr=fxsz_cat[\"YSZ_500_err\"],fmt=\"o\",label=lbl)\n",
    "lbl=\"Blind\"\n",
    "errorbar(xsz_cat[\"YSZ_500\"],bxsz_cat[\"YSZ_500\"],xerr=xsz_cat[\"YSZ_500_err\"],yerr=bxsz_cat[\"YSZ_500_err\"],fmt=\"o\",label=lbl)\n",
    "\n",
    "\n",
    "plot(x,x,\"k--\")\n",
    "grid(which=\"both\")\n",
    "xlabel(\"$Y^{catalogue}_{500}$\",fontsize=10)\n",
    "ylabel(\"$Y^{estimated}_{500}$\",fontsize=10)\n",
    "loglog()\n",
    "ylim(5e-6,1e-3)\n",
    "xlim(5e-6,1e-3)\n",
    "legend(loc=0)\n",
    "figname=figpath + \"compare_Y500.pdf\"\n",
    "savefig(figname,bbox_inches=\"tight\")"
   ]
  },
  {
   "cell_type": "code",
   "execution_count": null,
   "metadata": {
    "collapsed": false,
    "deletable": true,
    "editable": true
   },
   "outputs": [],
   "source": [
    "figure()\n",
    "plot(fxsz_cat[\"YSZ_500_err\"]/xsz_cat[\"YSZ_500_err\"])\n",
    "#axhline(1,ls=\"--\",c=\"k\")\n",
    "axhline(1/1.414,ls=\"--\",c=\"b\",label=\"$1/\\sqrt{2}=$\" + str(round(1/sqrt(2.),3)))\n",
    "mu=mean(np.array(fxsz_cat[\"YSZ_500_err\"]/xsz_cat[\"YSZ_500_err\"]))\n",
    "axhline(mu,label=\"mean = \"+ str(round(mu,3)),c=\"r\")\n",
    "legend(loc=0)\n",
    "ylabel(\"$\\sigma_{Y^{est.}_{500}}/\\sigma_{Y^{cat.}_{500}}$\",fontsize=12)\n",
    "grid()\n",
    "figname=figpath + \"compare_Y500_err.pdf\"\n",
    "savefig(figname,bbox_inches=\"tight\")"
   ]
  },
  {
   "cell_type": "code",
   "execution_count": null,
   "metadata": {
    "collapsed": false,
    "deletable": true,
    "editable": true
   },
   "outputs": [],
   "source": [
    "figure()\n",
    "scatter(xsz_cat[\"T500\"],fxsz_cat[\"YSZ_500_Tc\"]/fxsz_cat[\"YSZ_500\"],label=\"$Y^{T=T_c}_{500}/Y^{T=0}_{500}$\")\n",
    "scatter(xsz_cat[\"T500\"],fxsz_cat[\"YSZ_500_err_Tc\"]/fxsz_cat[\"YSZ_500_err\"],label=\"$\\sigma^{T=T_c}_{Y_{500}}/\\sigma^{T=0}_{Y_{500}}$\")\n",
    "plot(xsz_cat[\"T500\"],1+0.07*xsz_cat[\"T500\"]/5.,\"k--\",label=r\"$1 + 0.07 \\frac{T_{500}}{5.}$\")\n",
    "xlabel('$T_{500}$ keV')\n",
    "ylabel('$Y^{T=T_c}_{500}/Y^{T=0}_{500}$')\n",
    "grid()\n",
    "legend(loc=0)\n",
    "figname=figpath + \"Y500_T0_vs_Y500_Tc.pdf\"\n",
    "savefig(figname,bbox_inches=\"tight\")\n",
    "\n",
    "\n",
    "\n",
    "# Ratio of SNR\n",
    "qTT=fxsz_cat[\"YSZ_500_Tc\"]/fxsz_cat[\"YSZ_500_err_Tc\"]\n",
    "qT0=fxsz_cat[\"YSZ_500\"]/fxsz_cat[\"YSZ_500_err\"]\n",
    "\n",
    "fn=lambda x,a: 1.+a*x/5.\n",
    "slope,slope_err=curve_fit(fn,xsz_cat[\"T500\"],qTT/qT0)\n",
    "\n",
    "figure()\n",
    "plot(xsz_cat[\"T500\"],qTT/qT0,\"o\")\n",
    "#plot(xsz_cat[\"T500\"],1+0.07*xsz_cat[\"T500\"]/5.,\"r-\",label=r\"$1 + 0.07 \\frac{T_{500}}{5.}$\")\n",
    "plot(xsz_cat[\"T500\"],fn(xsz_cat[\"T500\"],slope),\"k--\",label=\"Fit: \" + \"$1 + $\" + str(round(slope,4)) + r\"$\\frac{T_{500}}{5.}$\")\n",
    "xlabel('$T_{500}$ keV')\n",
    "ylabel('$r=q_{T=T_c}/q_{T=0}$')\n",
    "grid()\n",
    "legend(loc=0)\n",
    "figname=figpath + \"SNR_qT0_qTT.pdf\""
   ]
  },
  {
   "cell_type": "markdown",
   "metadata": {
    "deletable": true,
    "editable": true
   },
   "source": [
    "## Deriving $Y^{SZ}_{500} - Y^X_{500}$ scalinng law"
   ]
  },
  {
   "cell_type": "code",
   "execution_count": null,
   "metadata": {
    "collapsed": false,
    "deletable": true,
    "editable": true
   },
   "outputs": [],
   "source": [
    "xdata=log10(xsz_cat[\"YX_500\"]/1e-4)\n",
    "xerr=return_log_err(xsz_cat[\"YX_500\"]/1e-4,xsz_cat[\"YX_500_err\"]/1e-4)\n",
    "\n",
    "# Catalogue\n",
    "ydata=log10(xsz_cat[\"YSZ_500\"])\n",
    "yerr=return_log_err(xsz_cat[\"YSZ_500\"],xsz_cat[\"YSZ_500_err\"])\n",
    "acat,bcat,erracat,errbcat,covab=bces.bcesp(xdata,xerr,ydata,yerr,np.zeros_like(xdata),100000)\n",
    "print acat[3],erracat[3],bcat[3],errbcat[3]\n",
    "\n",
    "\n",
    "# T=0\n",
    "ydata=log10(fxsz_cat[\"YSZ_500\"])\n",
    "yerr=return_log_err(fxsz_cat[\"YSZ_500\"],fxsz_cat[\"YSZ_500_err\"])\n",
    "aT0,bT0,erraT0,errbT0,covab=bces.bcesp(xdata,xerr,ydata,yerr,np.zeros_like(xdata),100000)\n",
    "print aT0[3],erraT0[3],bT0[3],errbT0[3]\n",
    "\n",
    "# T=T_c\n",
    "ydata=log10(fxsz_cat[\"YSZ_500_Tc\"])\n",
    "yerr=return_log_err(fxsz_cat[\"YSZ_500_Tc\"],fxsz_cat[\"YSZ_500_err_Tc\"])\n",
    "aTT,bTT,erraTT,errbTT,covab=bces.bcesp(xdata,xerr,ydata,yerr,np.zeros_like(xdata),100000)\n",
    "print aTT[3],erraTT[3],bTT[3],errbTT[3]"
   ]
  },
  {
   "cell_type": "code",
   "execution_count": null,
   "metadata": {
    "collapsed": false,
    "deletable": true,
    "editable": true
   },
   "outputs": [],
   "source": [
    "figure()\n",
    "errorbar(xsz_cat[\"YX_500\"],xsz_cat[\"YSZ_500\"],xerr=xsz_cat[\"YX_500_err\"],yerr=xsz_cat[\"YSZ_500_err\"],fmt='o',ms=5,label=\"Catalogue\")\n",
    "errorbar(xsz_cat[\"YX_500\"]+0.02*xsz_cat[\"YX_500\"],fxsz_cat[\"YSZ_500\"],xerr=xsz_cat[\"YX_500_err\"],yerr=fxsz_cat[\"YSZ_500_err\"],fmt='o',ms=5,label=\"Estimated $(T=0)$\")\n",
    "tempx=linspace(5e-6,5e-3,1000)\n",
    "lbl=\"$A_{cat}$ = \" + str(round(bcat[3],2)) + \"$\\pm$\" + str(round(errbcat[3],3)) \n",
    "lbl=lbl + \" ; $B_{cat}$ = \" +str(round(acat[3],2))  + \"$\\pm$\" + str(round(erracat[3],3))\n",
    "plot(tempx,(10.**bcat[3])*(tempx/1e-4)**acat[3],label=lbl,zorder=1)\n",
    "\n",
    "lbl=\"$A_{T=0}$ = \" + str(round(bT0[3],2)) + \"$\\pm$\" + str(round(errbT0[3],3)) \n",
    "lbl=lbl + \" ; $B_{T=0}$ = \" +str(round(aT0[3],2))  + \"$\\pm$\" + str(round(erraT0[3],3))\n",
    "plot(tempx,(10.**bT0[3])*(tempx/1e-4)**aT0[3],label=lbl,zorder=3)\n",
    "ylim(5e-6,1e-3)\n",
    "xlim(5e-6,1e-3)\n",
    "loglog()\n",
    "legend(loc=0)\n",
    "ylabel(\"$Y^{SZ}_{500}$\",fontsize=10)\n",
    "xlabel(\"$Y^X_{500}$\",fontsize=10)\n",
    "grid(which=\"both\",alpha=0.4)\n",
    "figname=figpath + \"YSZ500_YX500_cat_vs_est.pdf\"\n",
    "savefig(figname,bbox_inches=\"tight\")"
   ]
  },
  {
   "cell_type": "code",
   "execution_count": null,
   "metadata": {
    "collapsed": false,
    "deletable": true,
    "editable": true
   },
   "outputs": [],
   "source": [
    "figure()\n",
    "errorbar(xsz_cat[\"YX_500\"],fxsz_cat[\"YSZ_500\"],xerr=xsz_cat[\"YX_500_err\"],yerr=fxsz_cat[\"YSZ_500_err\"],fmt='o',ms=5,label=\"Estimated $(T=0)$\")\n",
    "errorbar(xsz_cat[\"YX_500\"],fxsz_cat[\"YSZ_500_Tc\"],xerr=xsz_cat[\"YX_500_err\"],yerr=fxsz_cat[\"YSZ_500_err_Tc\"],fmt='o',ms=5,label=\"Estimated $(T=T_c)$\")\n",
    "tempx=linspace(5e-6,5e-3,1000)\n",
    "lbl=\"$A_{T=0}$ = \" + str(round(bT0[3],2)) + \"$\\pm$\" + str(round(errbT0[3],3)) \n",
    "lbl=lbl + \" ; $B_{T=0}$ = \" +str(round(aT0[3],2))  + \"$\\pm$\" + str(round(erraT0[3],3))\n",
    "plot(tempx,(10.**bT0[3])*(tempx/1e-4)**aT0[3],label=lbl,zorder=3)\n",
    "\n",
    "lbl=\"$A_{T=T_c}$ = \" + str(round(bTT[3],2)) + \"$\\pm$\" + str(round(errbTT[3],3)) \n",
    "lbl=lbl + \" ; $B_{T=T_c}$ = \" +str(round(aTT[3],2))  + \"$\\pm$\" + str(round(erraTT[3],3))\n",
    "plot(tempx,(10.**bTT[3])*(tempx/1e-4)**aTT[3],label=lbl,zorder=5)\n",
    "\n",
    "ylim(5e-6,1e-3)\n",
    "xlim(5e-6,1e-3)\n",
    "loglog()\n",
    "legend(loc=0)\n",
    "ylabel(\"$Y^{SZ}_{500}$\",fontsize=10)\n",
    "xlabel(\"$Y^X_{500}$\",fontsize=10)\n",
    "grid(which=\"both\",alpha=0.4)\n",
    "figname=figpath + \"YSZ500_YX500_T0_vs_TT.pdf\"\n",
    "savefig(figname,bbox_inches=\"tight\")"
   ]
  },
  {
   "cell_type": "markdown",
   "metadata": {
    "deletable": true,
    "editable": true
   },
   "source": [
    "## Deriving $Y^{SZ}_{500} - M^X_{500}$ scalinng law"
   ]
  },
  {
   "cell_type": "code",
   "execution_count": null,
   "metadata": {
    "collapsed": false,
    "deletable": true,
    "editable": true
   },
   "outputs": [],
   "source": [
    "# # This produces numbers in row 2 of Table 2 from Planck early results XI (A&A 536 A11 2011)\n",
    "# Ezgamma=cosmo_fn.Ez(xsz_cat[\"z\"])**(-2./3.)\n",
    "# This produces numbers in Table A.1 from Planck Collaboration: Cosmology from SZ cluster counts (2013)\n",
    "Ezgamma=cosmo_fn.Ez(xsz_cat[\"z\"])**(-2./3.)/1e-4\n",
    "\n",
    "xdata=log10(xsz_cat[\"M500\"]/6.)\n",
    "xerr=return_log_err(xsz_cat[\"M500\"]/6.,xsz_cat[\"M500_err\"]/6.)\n",
    "\n",
    "# Catalogue\n",
    "ydata=log10(xsz_cat[\"YSZ_500\"]*Ezgamma)\n",
    "yerr=return_log_err(xsz_cat[\"YSZ_500\"]*Ezgamma,xsz_cat[\"YSZ_500_err\"]*Ezgamma)\n",
    "acat,bcat,erracat,errbcat,covab=bces.bcesp(xdata,xerr,ydata,yerr,np.zeros_like(xdata),100000)\n",
    "print acat[3],erracat[3],bcat[3],errbcat[3]\n",
    "\n",
    "\n",
    "# T=0\n",
    "ydata=log10(fxsz_cat[\"YSZ_500\"]*Ezgamma)\n",
    "yerr=return_log_err(fxsz_cat[\"YSZ_500\"]*Ezgamma,fxsz_cat[\"YSZ_500_err\"]*Ezgamma)\n",
    "aT0,bT0,erraT0,errbT0,covab=bces.bcesp(xdata,xerr,ydata,yerr,np.zeros_like(xdata),100000)\n",
    "print aT0[3],erraT0[3],bT0[3],errbT0[3]\n",
    "\n",
    "# T=T_c\n",
    "ydata=log10(fxsz_cat[\"YSZ_500_Tc\"]*Ezgamma)\n",
    "yerr=return_log_err(fxsz_cat[\"YSZ_500_Tc\"]*Ezgamma,fxsz_cat[\"YSZ_500_err_Tc\"]*Ezgamma)\n",
    "\n",
    "aTT,bTT,erraTT,errbTT,covab=bces.bcesp(xdata,xerr,ydata,yerr,np.zeros_like(xdata),100000)\n",
    "print aTT[3],erraTT[3],bTT[3],errbTT[3]"
   ]
  },
  {
   "cell_type": "code",
   "execution_count": null,
   "metadata": {
    "collapsed": false,
    "deletable": true,
    "editable": true
   },
   "outputs": [],
   "source": [
    "M500=linspace(2,24,1000)\n",
    "norm=1e-4\n",
    "figure()\n",
    "errorbar(xsz_cat[\"M500\"]*1e14,Ezgamma*xsz_cat[\"YSZ_500\"]*norm,yerr=xsz_cat[\"YSZ_500_err\"]*Ezgamma*norm,fmt=\"o\",label=\"Catalogue\")\n",
    "errorbar(xsz_cat[\"M500\"]*1e14,Ezgamma*fxsz_cat[\"YSZ_500\"]*norm,yerr=fxsz_cat[\"YSZ_500_err\"]*Ezgamma*norm,fmt=\"o\",label=\"Estimated $(T=0)$\")\n",
    "\n",
    "lbl=r\"$A_{cat}$ = \" + str(round(bcat[3],2)) + r\"$\\pm$\" + str(round(errbcat[3],2)) \n",
    "lbl=lbl + r\" ; $\\alpha_{cat}$ = \" +str(round(acat[3],2))  + r\"$\\pm$\" + str(round(erracat[3],2))\n",
    "plot(M500*1e14,(10.**bcat[3])*((M500/6.)**acat[3])*norm,label=lbl)\n",
    "\n",
    "lbl=r\"$A_{T=0}$ = \" + str(round(bT0[3],2)) + \"$\\pm$\" + str(round(errbT0[3],2)) \n",
    "lbl=lbl + r\" ; $\\alpha_{T=0}$ = \" +str(round(aT0[3],2))  + \"$\\pm$\" + str(round(erraT0[3],2))\n",
    "plot(M500*1e14,(10.**bT0[3])*((M500/6.)**aT0[3])*norm,label=lbl)\n",
    "\n",
    "ylabel(r\"$E(z)^{-2/3} D^2_A Y_{500}$\")\n",
    "xlabel(r\"$M_{500}$\" + \" \" + \"$M_{\\odot}$\")\n",
    "lbl=r\"$E(z)^{-2/3} D^2_A Y_{500} = 10^A \\left[ \\frac{M_{500}}{6 \\times 10^{14} M_{\\odot}}\\right]^\\alpha$\"\n",
    "legend(loc=0,title=lbl,fontsize=8)\n",
    "loglog()\n",
    "grid(which=\"both\",alpha=0.6)\n",
    "figname=figpath + \"Y500_vs_M500_compare_with_cat.pdf\"\n",
    "savefig(figname,bbox_inches=\"tight\")"
   ]
  },
  {
   "cell_type": "code",
   "execution_count": null,
   "metadata": {
    "collapsed": false,
    "deletable": true,
    "editable": true
   },
   "outputs": [],
   "source": [
    "M500=linspace(2,24,1000)\n",
    "T500=cosmo_fn.convert_M500_T500(M500,0.)\n",
    "correction=1+0.07*(T500/5.)\n",
    "\n",
    "norm=1e-4\n",
    "figure()\n",
    "errorbar(xsz_cat[\"M500\"]*1e14,Ezgamma*fxsz_cat[\"YSZ_500\"]*norm,yerr=fxsz_cat[\"YSZ_500_err\"]*Ezgamma*norm,fmt=\"o\",label=\"Estimated $(T=0)$\")\n",
    "errorbar(xsz_cat[\"M500\"]*1e14,Ezgamma*fxsz_cat[\"YSZ_500_Tc\"]*norm,yerr=fxsz_cat[\"YSZ_500_err_Tc\"]*Ezgamma*norm,fmt=\"o\",label=\"Estimated $(T=T_c)$\")\n",
    "\n",
    "lbl=r\"$A_{T=0}$ = \" + str(round(bT0[3],2)) + \"$\\pm$\" + str(round(errbT0[3],2)) \n",
    "lbl=lbl + r\" ; $\\alpha_{T=0}$ = \" +str(round(aT0[3],2))  + \"$\\pm$\" + str(round(erraT0[3],2))\n",
    "plot(M500*1e14,(10.**bT0[3])*((M500/6.)**aT0[3])*norm,label=lbl)\n",
    "\n",
    "lbl=r\"$A_{T=T}$ = \" + str(round(bTT[3],2)) + r\"$\\pm$\" + str(round(errbTT[3],2)) \n",
    "lbl=lbl + r\" ; $\\alpha_{T=T_c}$ = \" +str(round(aTT[3],2))  + r\"$\\pm$\" + str(round(erraTT[3],2))\n",
    "plot(M500*1e14,(10.**bTT[3])*((M500/6.)**aTT[3])*norm,label=lbl)\n",
    "\n",
    "plot(M500*1e14,(10.**bT0[3])*((M500/6.)**aT0[3])*norm*correction,\"k--\",label=\"Theory\")\n",
    "\n",
    "ylabel(r\"$E(z)^{-2/3} D^2_A Y_{500}$\")\n",
    "xlabel(r\"$M_{500}$\" + \" \" + \"$M_{\\odot}$\")\n",
    "lbl=r\"$E(z)^{-2/3} D^2_A Y_{500} = 10^A \\left[ \\frac{M_{500}}{6 \\times 10^{14} M_{\\odot}}\\right]^\\alpha$\"\n",
    "legend(loc=0,title=lbl,fontsize=8)\n",
    "loglog()\n",
    "grid(which=\"both\",alpha=0.6)\n",
    "figname=figpath + \"Y500_vs_M500_rSZ_correction.pdf\"\n",
    "savefig(figname,bbox_inches=\"tight\")"
   ]
  },
  {
   "cell_type": "code",
   "execution_count": null,
   "metadata": {
    "collapsed": true,
    "deletable": true,
    "editable": true
   },
   "outputs": [],
   "source": []
  },
  {
   "cell_type": "code",
   "execution_count": null,
   "metadata": {
    "collapsed": true
   },
   "outputs": [],
   "source": []
  }
 ],
 "metadata": {
  "kernelspec": {
   "display_name": "Python 2",
   "language": "python",
   "name": "python2"
  },
  "language_info": {
   "codemirror_mode": {
    "name": "ipython",
    "version": 2
   },
   "file_extension": ".py",
   "mimetype": "text/x-python",
   "name": "python",
   "nbconvert_exporter": "python",
   "pygments_lexer": "ipython2",
   "version": "2.7.13"
  },
  "toc": {
   "base_numbering": 1,
   "nav_menu": {},
   "number_sections": true,
   "sideBar": true,
   "skip_h1_title": false,
   "title_cell": "Table of Contents",
   "title_sidebar": "Contents",
   "toc_cell": false,
   "toc_position": {},
   "toc_section_display": true,
   "toc_window_display": true
  }
 },
 "nbformat": 4,
 "nbformat_minor": 2
}
