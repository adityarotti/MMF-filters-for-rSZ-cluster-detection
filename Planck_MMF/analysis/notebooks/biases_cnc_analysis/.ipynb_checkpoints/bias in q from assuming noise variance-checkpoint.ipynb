{
 "cells": [
  {
   "cell_type": "code",
   "execution_count": 9,
   "metadata": {
    "collapsed": false,
    "deletable": true,
    "editable": true,
    "hideCode": true,
    "hidePrompt": true
   },
   "outputs": [
    {
     "name": "stdout",
     "output_type": "stream",
     "text": [
      "Populating the interactive namespace from numpy and matplotlib\n"
     ]
    }
   ],
   "source": [
    "import sys,os\n",
    "import time\n",
    "import collections\n",
    "sys.path.append(os.path.abspath(\"../../\"))\n",
    "sys.path.append(os.path.abspath('../../modules/'))\n",
    "import healpy as h\n",
    "from scipy.interpolate import interp1d\n",
    "from modules.flat_sky_codes import tangent_plane_analysis as tpa\n",
    "from modules.flat_sky_codes import flat_sky_analysis as fsa\n",
    "from modules.simulate.spatial_template import sim_cluster as sc\n",
    "import collections\n",
    "from modules import cnc_bias_study\n",
    "%pylab notebook\n",
    "\n",
    "def ensure_dir(file_path):\n",
    "    directory = os.path.dirname(file_path)\n",
    "    if not os.path.exists(directory):\n",
    "        os.makedirs(directory)\n",
    "        \n",
    "figpath=\"./results/\"\n",
    "ensure_dir(figpath)"
   ]
  },
  {
   "cell_type": "code",
   "execution_count": 10,
   "metadata": {
    "collapsed": true,
    "deletable": true,
    "editable": true,
    "hideCode": true,
    "hidePrompt": true
   },
   "outputs": [],
   "source": [
    "cnc=cnc_bias_study.matched_filter_anasim(192,2048,theta500_steps=20)"
   ]
  },
  {
   "cell_type": "code",
   "execution_count": 21,
   "metadata": {
    "collapsed": true,
    "deletable": true,
    "editable": true,
    "hideCode": true,
    "hidePrompt": true
   },
   "outputs": [],
   "source": [
    "nrlz=20\n",
    "yarr=np.logspace(-6,-4.8,15)\n",
    "lbls=[\"SK_NVK\",\"SK\"]"
   ]
  },
  {
   "cell_type": "code",
   "execution_count": 22,
   "metadata": {
    "collapsed": true,
    "deletable": true,
    "editable": true,
    "hideCode": true,
    "hidePrompt": true
   },
   "outputs": [],
   "source": [
    "snr=np.zeros((len(lbls),len(yarr),nrlz),float)\n",
    "snr_stat=np.zeros((len(lbls),len(yarr),2),float)"
   ]
  },
  {
   "cell_type": "code",
   "execution_count": 14,
   "metadata": {
    "collapsed": false,
    "deletable": true,
    "editable": true,
    "hideCode": true,
    "hidePrompt": true
   },
   "outputs": [],
   "source": [
    "for iy,yc in enumerate(yarr):\n",
    "    for i in range(nrlz):\n",
    "        data,noise,yc_true=cnc.simulate_ymap(15.,0.35e-5,xy=[123,32])\n",
    "        soln_sk_nvk=cnc.mf_ideal_size_known(data,theta500=15.,noise=[])\n",
    "        snr[0,i]=soln_sk_nvk[0]\n",
    "        soln_sk=cnc.mf_ideal_size_known(data,theta500=15.,noise=noise)\n",
    "        snr[1,i]=soln_sk[0]"
   ]
  },
  {
   "cell_type": "code",
   "execution_count": 20,
   "metadata": {
    "collapsed": false
   },
   "outputs": [
    {
     "name": "stdout",
     "output_type": "stream",
     "text": [
      "6.111901696152717 2.278100376056932\n",
      "5.675785047354114 1.8480702981535428\n"
     ]
    }
   ],
   "source": [
    "print np.mean(snr[1,:]),np.std(snr[1,:])\n",
    "print np.mean(snr[0,:]),np.std(snr[0,:])"
   ]
  },
  {
   "cell_type": "code",
   "execution_count": null,
   "metadata": {
    "collapsed": true,
    "deletable": true,
    "editable": true,
    "hideCode": true,
    "hidePrompt": true
   },
   "outputs": [],
   "source": []
  }
 ],
 "metadata": {
  "hide_code_all_hidden": true,
  "kernelspec": {
   "display_name": "Python 2",
   "language": "python",
   "name": "python2"
  },
  "language_info": {
   "codemirror_mode": {
    "name": "ipython",
    "version": 2
   },
   "file_extension": ".py",
   "mimetype": "text/x-python",
   "name": "python",
   "nbconvert_exporter": "python",
   "pygments_lexer": "ipython2",
   "version": "2.7.13"
  },
  "toc": {
   "base_numbering": 1,
   "nav_menu": {},
   "number_sections": true,
   "sideBar": true,
   "skip_h1_title": false,
   "title_cell": "Table of Contents",
   "title_sidebar": "Contents",
   "toc_cell": false,
   "toc_position": {},
   "toc_section_display": true,
   "toc_window_display": true
  }
 },
 "nbformat": 4,
 "nbformat_minor": 2
}
