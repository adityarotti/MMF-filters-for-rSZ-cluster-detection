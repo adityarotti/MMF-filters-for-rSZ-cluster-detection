{
 "cells": [
  {
   "cell_type": "code",
   "execution_count": 1,
   "metadata": {
    "collapsed": false,
    "deletable": true,
    "editable": true
   },
   "outputs": [
    {
     "ename": "ImportError",
     "evalue": "No module named modules.settings",
     "output_type": "error",
     "traceback": [
      "\u001b[0;31m---------------------------------------------------------------------------\u001b[0m",
      "\u001b[0;31mImportError\u001b[0m                               Traceback (most recent call last)",
      "\u001b[0;32m<ipython-input-1-4203cee10ba5>\u001b[0m in \u001b[0;36m<module>\u001b[0;34m()\u001b[0m\n\u001b[1;32m      1\u001b[0m \u001b[0;32mfrom\u001b[0m \u001b[0mastropy\u001b[0m\u001b[0;34m.\u001b[0m\u001b[0mio\u001b[0m \u001b[0;32mimport\u001b[0m \u001b[0mfits\u001b[0m\u001b[0;34m\u001b[0m\u001b[0m\n\u001b[0;32m----> 2\u001b[0;31m \u001b[0;32mfrom\u001b[0m \u001b[0mmodules\u001b[0m\u001b[0;34m.\u001b[0m\u001b[0msettings\u001b[0m \u001b[0;32mimport\u001b[0m \u001b[0mglobal_mmf_settings\u001b[0m \u001b[0;32mas\u001b[0m \u001b[0mgset\u001b[0m\u001b[0;34m\u001b[0m\u001b[0m\n\u001b[0m\u001b[1;32m      3\u001b[0m \u001b[0;32mfrom\u001b[0m \u001b[0mastropy\u001b[0m\u001b[0;34m.\u001b[0m\u001b[0mcoordinates\u001b[0m \u001b[0;32mimport\u001b[0m \u001b[0mSkyCoord\u001b[0m\u001b[0;34m\u001b[0m\u001b[0m\n\u001b[1;32m      4\u001b[0m \u001b[0;32mfrom\u001b[0m \u001b[0mcosmology\u001b[0m \u001b[0;32mimport\u001b[0m \u001b[0mcosmo_fn\u001b[0m\u001b[0;34m\u001b[0m\u001b[0m\n\u001b[1;32m      5\u001b[0m \u001b[0;32mimport\u001b[0m \u001b[0mbces\u001b[0m\u001b[0;34m.\u001b[0m\u001b[0mbces\u001b[0m \u001b[0;32mas\u001b[0m \u001b[0mbces\u001b[0m\u001b[0;34m\u001b[0m\u001b[0m\n",
      "\u001b[0;31mImportError\u001b[0m: No module named modules.settings"
     ]
    }
   ],
   "source": [
    "from astropy.io import fits\n",
    "from modules.settings import global_mmf_settings as gset\n",
    "from astropy.coordinates import SkyCoord\n",
    "from cosmology import cosmo_fn\n",
    "import bces.bces as bces\n",
    "%pylab notebook\n",
    "\n",
    "def return_log_err(gauss_mean,gauss_err,num_samples=20000,ignore_negatives=True):\n",
    "    logerr=np.zeros_like(gauss_mean)\n",
    "    for idx, mu in enumerate(gauss_mean):\n",
    "        x=np.random.normal(mu,gauss_err[idx],num_samples)\n",
    "        if ignore_negatives:\n",
    "            while np.any(x<0):\n",
    "                neg_idx=np.where(x<0)[0]\n",
    "                x[neg_idx]=np.random.normal(mu,gauss_err[idx],np.size(neg_idx))\n",
    "        logerr[idx]=np.std(log10(x))\n",
    "    return logerr"
   ]
  },
  {
   "cell_type": "code",
   "execution_count": 113,
   "metadata": {
    "collapsed": true,
    "deletable": true,
    "editable": true
   },
   "outputs": [],
   "source": [
    "outpath=\"../results/planck_cosmo_cat/\"\n",
    "gset.setup_mmf_config(dataset=\"planck\",outpath=outpath,chmin=100.,xsize=10.,result_midfix=\"\",do_band_pass=True)"
   ]
  },
  {
   "cell_type": "markdown",
   "metadata": {
    "deletable": true,
    "editable": true
   },
   "source": [
    "# Cosmo sample xray measurements"
   ]
  },
  {
   "cell_type": "code",
   "execution_count": 137,
   "metadata": {
    "collapsed": false,
    "deletable": true,
    "editable": true
   },
   "outputs": [],
   "source": [
    "dtype=[ \"RA\", \"DEC\",\"z\",\"R500\",\"Mg500\",\"Mg500_err_m\",\"Mg500_err_p\",\"TX\",\"TX_err_m\",\"TX_err_p\",\"M500_YX\",\"M500_err_m\",\"M500_err_p\"]\n",
    "dxray=np.loadtxt(gset.mmfset.cosmo_cat_2013_yxray_file)\n",
    "xsz_cat={}\n",
    "\n",
    "for idx,ttype in enumerate(dtype):\n",
    "    xsz_cat[ttype]=dxray[:,idx]\n",
    "    \n",
    "c = SkyCoord(xsz_cat[\"RA\"], xsz_cat[\"DEC\"] , frame='icrs', unit='deg')\n",
    "xsz_cat[\"GLON\"]=c.galactic.l.degree\n",
    "xsz_cat[\"GLAT\"]=c.galactic.b.degree\n",
    "xsz_cat[\"M500_YX_err\"]=(xsz_cat[\"M500_err_m\"]+xsz_cat[\"M500_err_p\"])*0.5\n",
    "xsz_cat[\"theta500\"]=(xsz_cat[\"R500\"]/(cosmo_fn.dA(xsz_cat[\"z\"])*1000.))*180.*60./np.pi"
   ]
  },
  {
   "cell_type": "code",
   "execution_count": 138,
   "metadata": {
    "collapsed": false,
    "deletable": true,
    "editable": true
   },
   "outputs": [
    {
     "data": {
      "text/plain": [
       "array([  5.00885433,   8.49229225,   6.90799487,   9.83207264,\n",
       "         5.60609699,   3.66965151,   7.71766409,   6.50190334,\n",
       "         5.92333792,   6.68913825,   4.40404458,   4.22736936,\n",
       "         7.258689  ,   5.84235404,   5.57155662,   4.19362628,\n",
       "         6.67206217,   8.22932018,   4.74942679,   4.73343148,\n",
       "         6.63641534,   4.76375654,   4.79181817,   5.7953465 ,\n",
       "         4.78384504,   5.02860849,  11.7200855 ,  11.98940349,\n",
       "         7.25835181,  10.14146942,  11.09439941,  10.07719952,\n",
       "         4.94756671,   6.76414358,  12.83884795,   7.2071732 ,\n",
       "         7.69694407,   7.42078057,   6.63365   ,   8.26768282,\n",
       "         7.71160816,   3.89947283,  14.12178802,  17.49294994,\n",
       "        15.74966777,  13.85569799,  19.88613877,  21.15959923,\n",
       "        18.7970216 ,  13.28187614,  16.18033348,  19.37385702,\n",
       "        22.62754154,  19.80725572,  17.52771784,  15.60654936,\n",
       "        15.5971715 ,  21.46572663,   6.28774449,   4.80406188,\n",
       "         5.58157993,   4.87822877,   4.40809286,   3.89423367,\n",
       "         3.43556794,   4.85803504,   3.68574266,   4.06580676,\n",
       "         3.94805176,   5.58727495,   3.52411687])"
      ]
     },
     "execution_count": 138,
     "metadata": {},
     "output_type": "execute_result"
    }
   ],
   "source": [
    "xsz_cat[\"theta500\"]"
   ]
  },
  {
   "cell_type": "markdown",
   "metadata": {
    "deletable": true,
    "editable": true
   },
   "source": [
    "# Cosmo sample SZ measurements"
   ]
  },
  {
   "cell_type": "code",
   "execution_count": 114,
   "metadata": {
    "collapsed": false,
    "deletable": true,
    "editable": true
   },
   "outputs": [],
   "source": [
    "fle=fits.open(gset.mmfset.cosmo_cat_2013_ysz_file)\n",
    "keys=fle['MY_4_scaling'].header.keys()\n",
    "fkeys=[k for k in keys if \"TTYPE\" in k]\n",
    "fields=[fle['MY_4_scaling'].header[tkeys] for tkeys in fkeys]\n",
    "\n",
    "ysz_cat={}\n",
    "for n in fields:\n",
    "    if n==\"NAME\":\n",
    "        ysz_cat[n]=list(fle['MY_4_scaling'].data.field(n).flatten())\n",
    "    else:\n",
    "        ysz_cat[n]=fle['MY_4_scaling'].data.field(n).flatten()\n",
    "        \n",
    "ysz_cat[\"GLON\"]=np.zeros_like(ysz_cat[\"REDSHIFT\"],dtype=float64)\n",
    "ysz_cat[\"GLAT\"]=np.zeros_like(ysz_cat[\"REDSHIFT\"],dtype=float64)\n",
    "\n",
    "for idx in range(np.size(ysz_cat[\"REDSHIFT\"])):\n",
    "    ysz_cat[\"GLON\"][idx]=float(ysz_cat[\"NAME\"][idx][6:12])\n",
    "    ysz_cat[\"GLAT\"][idx]=float(ysz_cat[\"NAME\"][idx][12:18])"
   ]
  },
  {
   "cell_type": "code",
   "execution_count": 120,
   "metadata": {
    "collapsed": false,
    "deletable": true,
    "editable": true
   },
   "outputs": [
    {
     "data": {
      "text/plain": [
       "array([  1.40000002e-05,   8.09999983e-06,   6.70000009e-06,\n",
       "         5.29999988e-06,   9.29999987e-06,   1.70000003e-05,\n",
       "         7.39999996e-06,   1.10000001e-05,   9.00000032e-06,\n",
       "         4.39999985e-06,   1.29999999e-05,   9.10000017e-06,\n",
       "         8.79999970e-06,   9.20000002e-06,   7.90000013e-06,\n",
       "         1.20000004e-05,   1.20000004e-05,   6.79999994e-06,\n",
       "         1.10000001e-05,   1.10000001e-05,   6.10000006e-06,\n",
       "         1.10000001e-05,   7.90000013e-06,   1.29999999e-05,\n",
       "         1.49999996e-05,   8.40000030e-06,   4.09999984e-06,\n",
       "         4.20000015e-06,   9.99999975e-06,   3.00000011e-06,\n",
       "         4.09999984e-06,   3.29999989e-06,   1.40000002e-05,\n",
       "         9.99999975e-06,   2.30000001e-06,   4.90000002e-06,\n",
       "         5.40000019e-06,   5.70000020e-06,   5.20000003e-06,\n",
       "         6.40000007e-06,   6.30000022e-06,   2.09999998e-05,\n",
       "         3.50000005e-06,   3.00000011e-06,   4.69999986e-06,\n",
       "         3.59999990e-06,   2.79999995e-06,   3.20000004e-06,\n",
       "         2.10000007e-06,   2.10000007e-06,   1.99999999e-06,\n",
       "         2.30000001e-06,   2.90000003e-06,   2.40000008e-06,\n",
       "         1.39999997e-06,   2.19999993e-06,   2.40000008e-06,\n",
       "         2.19999993e-06,   9.60000034e-06,   1.20000004e-05,\n",
       "         1.29999999e-05,   1.29999999e-05,   9.60000034e-06,\n",
       "         9.49999958e-06,   1.29999999e-05,   1.99999995e-05,\n",
       "         9.99999975e-06,   1.40000002e-05,   9.00000032e-06,\n",
       "         5.70000020e-06,   9.89999990e-06], dtype=float32)"
      ]
     },
     "execution_count": 120,
     "metadata": {},
     "output_type": "execute_result"
    }
   ],
   "source": [
    "ysz_cat[\"Y_500\"]\n",
    "ysz_cat[\"ERR_Y_500\"]"
   ]
  },
  {
   "cell_type": "markdown",
   "metadata": {
    "deletable": true,
    "editable": true
   },
   "source": [
    "# With correction for Malmquist bias\n",
    "\n",
    "$\\alpha =\\beta$\n"
   ]
  },
  {
   "cell_type": "code",
   "execution_count": 135,
   "metadata": {
    "collapsed": false,
    "deletable": true,
    "editable": true
   },
   "outputs": [
    {
     "name": "stdout",
     "output_type": "stream",
     "text": [
      "BCES, 100000 trials... \n",
      "13.533218 s\n",
      "1.787 0.063 -0.186 0.011\n"
     ]
    }
   ],
   "source": [
    "Ezgamma=cosmo_fn.Ez(ysz_cat[\"REDSHIFT\"])**(-2./3.)/1e-4\n",
    "#xdata=log10(ysz_cat[\"M_Yx_500\"]/6e14)\n",
    "xdata=log10(xsz_cat[\"M500_YX\"]/6e14)\n",
    "#xerr=return_log_err(ysz_cat[\"M_Yx_500\"]/6e14,ysz_cat[\"M_Yx_500_err\"]/6e14)\n",
    "xerr=return_log_err(xsz_cat[\"M500_YX\"]/6e14,xsz_cat[\"M500_YX_err\"]/6e14)\n",
    "# Catalogue\n",
    "ydata=log10(ysz_cat[\"Y_500\"]*Ezgamma/ysz_cat[\"BIAS\"])\n",
    "yerr=return_log_err(ysz_cat[\"Y_500\"]*Ezgamma,ysz_cat[\"ERR_Y_500\"]*Ezgamma)\n",
    "acat,bcat,erracat,errbcat,covab=bces.bcesp(xdata,xerr,ydata,yerr,np.zeros_like(xdata),100000)\n",
    "print round(acat[3],3),round(erracat[3],3),round(bcat[3],3),round(errbcat[3],3)"
   ]
  },
  {
   "cell_type": "markdown",
   "metadata": {
    "deletable": true,
    "editable": true
   },
   "source": [
    "# Without Malmquist bias correction.\n",
    "- Reproduces the scaling law in Eq. A.6 of Planck 2013 cosmology paper."
   ]
  },
  {
   "cell_type": "code",
   "execution_count": 136,
   "metadata": {
    "collapsed": false,
    "deletable": true,
    "editable": true
   },
   "outputs": [
    {
     "name": "stdout",
     "output_type": "stream",
     "text": [
      "BCES, 100000 trials... \n",
      "13.451791 s\n",
      "1.768 0.064 -0.175 0.011\n"
     ]
    }
   ],
   "source": [
    "Ezgamma=cosmo_fn.Ez(ysz_cat[\"REDSHIFT\"])**(-2./3.)/1e-4\n",
    "#xdata=log10(ysz_cat[\"M_Yx_500\"]/6e14)\n",
    "xdata=log10(xsz_cat[\"M500_YX\"]/6e14)\n",
    "#xerr=return_log_err(ysz_cat[\"M_Yx_500\"]/6e14,ysz_cat[\"M_Yx_500_err\"]/6e14)\n",
    "xerr=return_log_err(xsz_cat[\"M500_YX\"]/6e14,xsz_cat[\"M500_YX_err\"]/6e14)\n",
    "# Catalogue\n",
    "ydata=log10(ysz_cat[\"Y_500\"]*Ezgamma)\n",
    "yerr=return_log_err(ysz_cat[\"Y_500\"]*Ezgamma,ysz_cat[\"ERR_Y_500\"]*Ezgamma)\n",
    "acat,bcat,erracat,errbcat,covab=bces.bcesp(xdata,xerr,ydata,yerr,np.zeros_like(xdata),100000)\n",
    "print round(acat[3],3),round(erracat[3],3),round(bcat[3],3),round(errbcat[3],3)"
   ]
  },
  {
   "cell_type": "code",
   "execution_count": null,
   "metadata": {
    "collapsed": true,
    "deletable": true,
    "editable": true
   },
   "outputs": [],
   "source": []
  }
 ],
 "metadata": {
  "kernelspec": {
   "display_name": "Python 2",
   "language": "python",
   "name": "python2"
  },
  "language_info": {
   "codemirror_mode": {
    "name": "ipython",
    "version": 2
   },
   "file_extension": ".py",
   "mimetype": "text/x-python",
   "name": "python",
   "nbconvert_exporter": "python",
   "pygments_lexer": "ipython2",
   "version": "2.7.13"
  },
  "toc": {
   "base_numbering": 1,
   "nav_menu": {},
   "number_sections": true,
   "sideBar": true,
   "skip_h1_title": false,
   "title_cell": "Table of Contents",
   "title_sidebar": "Contents",
   "toc_cell": false,
   "toc_position": {},
   "toc_section_display": true,
   "toc_window_display": true
  }
 },
 "nbformat": 4,
 "nbformat_minor": 2
}
