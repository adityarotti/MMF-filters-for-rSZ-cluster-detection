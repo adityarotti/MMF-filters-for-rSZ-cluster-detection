{
 "cells": [
  {
   "cell_type": "code",
   "execution_count": 56,
   "metadata": {
    "collapsed": false,
    "deletable": true,
    "editable": true,
    "hideCode": true,
    "hidePrompt": true
   },
   "outputs": [
    {
     "name": "stdout",
     "output_type": "stream",
     "text": [
      "Populating the interactive namespace from numpy and matplotlib\n"
     ]
    }
   ],
   "source": [
    "from astropy.coordinates import SkyCoord\n",
    "from astropy.io import fits\n",
    "%pylab notebook"
   ]
  },
  {
   "cell_type": "code",
   "execution_count": 58,
   "metadata": {
    "collapsed": false
   },
   "outputs": [],
   "source": [
    "ints_sample = fits.open(\"../data/Planck/COM_PCCS_SZ-Catalogs_vPR2/HFI_PCCS_SZ-union_R2.08.fits\")\n",
    "keys_ints=ints_sample['PSZ2_UNION'].header.keys()\n",
    "fkeys_ints=[k for k in keys_ints if \"TTYPE\" in k]\n",
    "fields_ints=[ints_sample['PSZ2_UNION'].header[tkeys] for tkeys in fkeys_ints]\n",
    "ints_raw={}\n",
    "for n in fields_ints:\n",
    "    if n==\"NAME\":\n",
    "        ints_raw[n]=list(ints_sample['PSZ2_UNION'].data.field(n).flatten())\n",
    "    else:\n",
    "        ints_raw[n]=ints_sample['PSZ2_UNION'].data.field(n).flatten()"
   ]
  },
  {
   "cell_type": "code",
   "execution_count": 77,
   "metadata": {
    "collapsed": false,
    "deletable": true,
    "editable": true,
    "hideCode": true,
    "hidePrompt": true
   },
   "outputs": [
    {
     "name": "stdout",
     "output_type": "stream",
     "text": [
      "0 116.968829659 -53.5489921569 0.2546 0.255 True 8.40089\n",
      "1 159.869276245 -73.5114261373 0.206 0.206 True 17.0687\n",
      "2 153.042211324 -58.2352620374 0.227 0.23 False 5.64442\n",
      "5 208.825278456 -30.6638569475 0.2475 0.248 True 9.47738\n",
      "6 195.802462749 -24.3329581776 0.203 0.203 True 11.7844\n",
      "7 182.5623105 55.8378370309 0.206 0.206 True 9.4021\n",
      "8 340.383334375 60.5857566976 0.2528 0.253 True 15.6345\n",
      "9 67.1952272887 67.4565332226 0.1712 0.171 True 17.8133\n",
      "11 71.3872776614 59.5452448993 0.2917 0.29 True 8.57915\n",
      "12 53.5712181656 59.5297825873 0.113 0.113 True 15.9002\n",
      "13 72.6275465493 41.4735690783 0.228 0.228 True 27.4303\n",
      "14 49.219940998 30.8564614243 0.1644 0.164 True 11.7539\n",
      "15 55.5887344973 31.8611625746 0.224 0.224 True 14.0301\n",
      "16 53.660289277 -34.4774136041 0.2347 0.235 False 4.87367\n",
      "17 73.9573206154 -27.8124231194 0.2329 0.231 True 19.09\n",
      "18 86.9919295054 -57.3609881523 0.2779 0.278 True 11.187\n",
      "14\n"
     ]
    }
   ],
   "source": [
    "d=loadtxt(\"../data/datain/locuss_sz_cat.txt\")\n",
    "thr=0.2\n",
    "cnt=0\n",
    "for idx in range(np.size(d[:,0])):\n",
    "    ra=str(int(d[idx,0])).zfill(2)+ \"h\" + str(int(d[idx,1])).zfill(2) + \"m\" + str(int(d[idx,2])).zfill(2) + \"s\"  \n",
    "    dec=str(int(d[idx,3])).zfill(2)+ \"d\" + str(int(d[idx,4])).zfill(2) + \"m\" + str(int(d[idx,5])).zfill(2) + \"s\"  \n",
    "    c=SkyCoord(ra, dec , frame='icrs')\n",
    "    glon=c.galactic.l.degree\n",
    "    glat=c.galactic.b.degree\n",
    "    for jdx, ints_glon in enumerate(ints_raw[\"GLON\"]):\n",
    "        ints_glat=ints_raw[\"GLAT\"][jdx]\n",
    "        if (abs(ints_glat-glat)<thr) & (abs(ints_glon-glon)<thr):\n",
    "            print idx,glon,glat,ints_raw[\"REDSHIFT\"][jdx],d[idx,6],ints_raw[\"COSMO\"][jdx],ints_raw[\"SNR\"][jdx]\n",
    "            if ints_raw[\"COSMO\"][jdx]:\n",
    "                cnt=cnt+1\n",
    "print cnt"
   ]
  },
  {
   "cell_type": "code",
   "execution_count": 76,
   "metadata": {
    "collapsed": false,
    "deletable": true,
    "editable": true,
    "hideCode": true,
    "hidePrompt": true
   },
   "outputs": [
    {
     "name": "stdout",
     "output_type": "stream",
     "text": [
      "0 219.898287199 -34.4015531825 0.7 0.66 True 6.32961\n",
      "1 348.384918537 -25.5143638151 0.25 0.25 True 7.00197\n",
      "2 352.059930916 -24.0086584323 0.798 0.77 False 4.50566\n",
      "3 305.875941005 -44.5673041471 0.3 0.3 True 8.63036\n",
      "4 208.645561977 -74.3923239459 0.72 0.9 False 4.86215\n",
      "5 130.163631382 -17.0192860105 0.2137 0.2 False 5.85576\n",
      "6 239.944837006 -39.9657413699 0.58 0.74 True 6.61578\n",
      "7 204.738434824 15.8664991456 0.344 0.34 True 6.10697\n",
      "10 329.484993845 -22.6756444261 -1.0 0.24 True 6.16602\n",
      "11 329.618050552 -22.6999054687 -1.0 0.46 True 6.16602\n",
      "12 196.680577329 -45.535112783 -1.0 0.57 False 4.91021\n",
      "13 196.810864163 -45.5500118593 -1.0 0.42 False 4.91021\n",
      "7\n"
     ]
    }
   ],
   "source": [
    "d=loadtxt(\"../data/datain/xmm_newton_planck_sz_cat.txt\")\n",
    "thr=0.2\n",
    "cnt=0\n",
    "for idx in range(np.size(d[:,0])):\n",
    "    ra=str(int(d[idx,0])).zfill(2)+ \"h\" + str(int(d[idx,1])).zfill(2) + \"m\" + str(int(d[idx,2])).zfill(2) + \"s\"  \n",
    "    dec=str(int(d[idx,3])).zfill(2)+ \"d\" + str(int(d[idx,4])).zfill(2) + \"m\" + str(int(d[idx,5])).zfill(2) + \"s\"  \n",
    "    c=SkyCoord(ra, dec , frame='icrs')\n",
    "    glon=c.galactic.l.degree\n",
    "    glat=c.galactic.b.degree\n",
    "    for jdx, ints_glon in enumerate(ints_raw[\"GLON\"]):\n",
    "        ints_glat=ints_raw[\"GLAT\"][jdx]\n",
    "        if (abs(ints_glat-glat)<thr) & (abs(ints_glon-glon)<thr):\n",
    "            print idx,glon,glat,ints_raw[\"REDSHIFT\"][jdx],d[idx,6],ints_raw[\"COSMO\"][jdx],ints_raw[\"SNR\"][jdx]\n",
    "            if ints_raw[\"COSMO\"][jdx]:\n",
    "                cnt=cnt+1\n",
    "print cnt"
   ]
  },
  {
   "cell_type": "code",
   "execution_count": 74,
   "metadata": {
    "collapsed": false
   },
   "outputs": [
    {
     "name": "stdout",
     "output_type": "stream",
     "text": [
      "0 8.95401837029 -81.2427911811 0.3066 0.307 True 15.3158\n",
      "1 115.145406812 -72.0952786684 0.0555 0.052 True 22.7596\n",
      "2 106.694448033 -83.2256200972 0.2924 0.292 True 12.6544\n",
      "3 125.593446771 -64.147755869 0.0442 0.044 True 15.1605\n",
      "4 260.022047652 -63.4457302382 0.2836 0.284 True 12.9837\n",
      "5 164.190221943 -38.8906856312 0.0739 0.075 False 19.6565\n",
      "6 294.66477718 -37.0337482971 0.2742 0.274 True 14.3691\n",
      "7 252.964184369 -56.0589138963 0.0752 0.07 True 10.4837\n",
      "8 265.00435309 -48.9510004565 0.059 0.06 True 19.8439\n",
      "9 182.443710371 -28.3020010381 0.0882 0.088 False 15.7749\n",
      "10 272.101286172 -40.1511259021 0.0589 0.059 True 39.9947\n",
      "11 195.77330382 -24.3019401297 0.203 0.203 True 11.7844\n",
      "12 262.252993243 -35.370505984 0.2952 0.295 True 22.8774\n",
      "13 244.337829193 -32.1371012661 0.2839 0.284 True 11.9577\n",
      "14 241.739133755 -30.8810616714 0.2708 0.275 True 11.1283\n",
      "15 236.955273813 -26.6690909923 0.1483 0.148 True 10.1168\n",
      "16 246.52232995 -26.0617209526 0.0468 0.045 True 10.9409\n",
      "17 241.776675964 -24.0014888474 0.1392 0.139 True 14.4733\n",
      "18 263.664094828 -22.5336466759 0.1644 0.164 True 21.6702\n",
      "19 266.038657766 -21.2511824009 0.2965 0.296 True 28.3826\n",
      "20 149.73148141 34.6976437603 0.1818 0.182 True 18.072\n",
      "21 239.283552343 24.7725316259 0.0542 0.054 True 36.2437\n",
      "22 166.136048451 43.3915065203 0.2172 0.217 True 12.3631\n",
      "23 195.621306768 44.0562543916 0.2952 0.298 True 7.56083\n",
      "24 244.69584858 32.4919078169 0.1535 0.153 True 10.1323\n",
      "25 182.633953011 55.8262268194 0.206 0.206 True 9.4021\n",
      "26 278.603456003 39.1697559417 0.3075 0.308 True 12.1556\n",
      "27 226.234146041 76.7645322698 0.1427 0.143 True 14.5573\n",
      "28 284.463413287 52.4378457585 0.4414 0.441 True 13.6022\n",
      "30 125.706881576 53.8599610333 0.3019 0.302 True 11.362\n",
      "31 303.760878811 33.6566580237 0.0544 0.053 True 10.7703\n",
      "32 304.891528338 45.4498224523 0.0473 0.047 True 16.116\n",
      "33 304.496009031 32.4431546538 0.0554 0.056 True 12.4003\n",
      "34 306.67366505 61.0591219597 0.0845 0.084 True 12.0237\n",
      "35 306.802958379 58.6109880744 0.0845 0.084 True 15.4475\n",
      "36 313.366393557 61.1142382375 0.1832 0.183 True 16.7412\n",
      "37 311.995806803 30.717446612 0.048 0.047 True 18.5698\n",
      "38 92.7217608548 73.4611245754 0.2279 0.223 True 17.6279\n",
      "39 33.7595026939 77.1655572428 0.0622 0.062 True 19.2654\n",
      "40 67.2231813283 67.4678875586 0.1712 0.171 True 17.8133\n",
      "41 53.5328015988 59.5473904046 0.113 0.151 True 15.9002\n",
      "42 6.47672365451 50.5516324242 0.0766 0.078 True 23.1709\n",
      "43 42.8196460446 56.6170192439 0.0723 0.072 True 12.501\n",
      "44 6.78581481086 30.4712447681 0.203 0.203 False 35.0105\n",
      "45 21.0956621112 33.2572270415 0.1514 0.152 True 16.3186\n",
      "46 97.7345415358 38.120347747 0.1709 0.171 True 22.7763\n",
      "47 72.6260334861 41.4621837658 0.228 0.228 True 27.4303\n",
      "48 110.983897709 31.7322995371 0.0581 0.058 True 40.7549\n",
      "49 93.9139396532 34.9072356763 0.0809 0.081 True 26.5032\n",
      "50 49.1996624945 30.8620077672 0.1644 0.164 True 11.7539\n",
      "51 55.597009267 31.8651103084 0.224 0.224 True 14.0301\n",
      "52 73.9612001424 -27.8224874291 0.2329 0.231 True 19.09\n",
      "53 332.229984364 -46.369277806 0.098 0.099 True 19.6873\n",
      "54 8.4468996166 -56.3543798021 0.1486 0.149 True 10.0536\n",
      "55 2.75436539756 -56.1825385215 0.1411 0.141 True 9.19606\n",
      "56 83.2894922082 -31.0325573554 0.412 0.412 True 9.53159\n",
      "57 3.91167571115 -59.4187587787 0.151 0.151 True 17.358\n",
      "58 56.96255897 -55.0803712225 0.447 0.444 True 11.8176\n",
      "59 336.589274859 -55.450350214 0.0965 0.097 True 14.0287\n",
      "60 349.464229808 -59.9511526386 0.3475 0.347 True 20.7304\n",
      "61 321.96194954 -47.973245342 0.094 0.094 True 13.6725\n",
      "58\n"
     ]
    }
   ],
   "source": [
    "dtype=[\"T500\",\"T500_err\",\"z\",\"Mg500\",\"Mg500_err\",\"M500\",\"M500_err\",\"RA\",\"DEC\",\"R500\",\"YSZ_500\",\"YSZ_500_err\",\"YX_500\",\"YX_500_err\"]\n",
    "cat=np.loadtxt(\"../data/datain/esz_cat_2011.txt\")\n",
    "xsz_cat={}\n",
    "for idx,d in enumerate(dtype):\n",
    "    xsz_cat[d]=cat[:,idx]\n",
    "\n",
    "c = SkyCoord(xsz_cat[\"RA\"], xsz_cat[\"DEC\"] , frame='icrs', unit='deg')\n",
    "xsz_cat[\"GLON\"]=c.galactic.l.degree\n",
    "xsz_cat[\"GLAT\"]=c.galactic.b.degree\n",
    "\n",
    "thr=0.2\n",
    "cnt=0\n",
    "for idx, glon in enumerate(xsz_cat[\"GLON\"]):\n",
    "    glat=xsz_cat[\"GLAT\"][idx]\n",
    "    for jdx, ints_glon in enumerate(ints_raw[\"GLON\"]):\n",
    "        ints_glat=ints_raw[\"GLAT\"][jdx]\n",
    "        if (abs(ints_glat-glat)<thr) & (abs(ints_glon-glon)<thr):\n",
    "            print idx,glon,glat,ints_raw[\"REDSHIFT\"][jdx],xsz_cat[\"z\"][idx],ints_raw[\"COSMO\"][jdx],ints_raw[\"SNR\"][jdx]\n",
    "            if ints_raw[\"COSMO\"][jdx]:\n",
    "                cnt=cnt+1\n",
    "print cnt"
   ]
  },
  {
   "cell_type": "code",
   "execution_count": null,
   "metadata": {
    "collapsed": true,
    "deletable": true,
    "editable": true,
    "hideCode": true,
    "hidePrompt": true
   },
   "outputs": [],
   "source": []
  }
 ],
 "metadata": {
  "hide_code_all_hidden": true,
  "kernelspec": {
   "display_name": "Python 2",
   "language": "python",
   "name": "python2"
  },
  "language_info": {
   "codemirror_mode": {
    "name": "ipython",
    "version": 2
   },
   "file_extension": ".py",
   "mimetype": "text/x-python",
   "name": "python",
   "nbconvert_exporter": "python",
   "pygments_lexer": "ipython2",
   "version": "2.7.13"
  },
  "toc": {
   "base_numbering": 1,
   "nav_menu": {},
   "number_sections": true,
   "sideBar": true,
   "skip_h1_title": false,
   "title_cell": "Table of Contents",
   "title_sidebar": "Contents",
   "toc_cell": false,
   "toc_position": {},
   "toc_section_display": true,
   "toc_window_display": true
  }
 },
 "nbformat": 4,
 "nbformat_minor": 2
}
