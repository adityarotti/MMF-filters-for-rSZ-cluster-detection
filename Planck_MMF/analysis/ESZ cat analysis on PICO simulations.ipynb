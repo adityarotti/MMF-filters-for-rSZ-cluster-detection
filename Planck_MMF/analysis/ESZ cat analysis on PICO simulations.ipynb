{
 "cells": [
  {
   "cell_type": "code",
   "execution_count": 1,
   "metadata": {
    "collapsed": false,
    "deletable": true,
    "editable": true
   },
   "outputs": [
    {
     "name": "stdout",
     "output_type": "stream",
     "text": [
      "Populating the interactive namespace from numpy and matplotlib\n"
     ]
    }
   ],
   "source": [
    "from modules.settings import global_mmf_settings as gset\n",
    "from modules import parallel_Y_M_scaling_reln as ymsr\n",
    "from modules.settings import global_mmf_settings as gset\n",
    "from data_preprocess import preprocess_pico_sims as pps\n",
    "from data_preprocess import get_esz_cat_pico_tiles as gec\n",
    "from cosmology import cosmo_fn\n",
    "import multiprocessing as mp\n",
    "from scipy.optimize import curve_fit\n",
    "import bces.bces as bces\n",
    "import time\n",
    "\n",
    "%pylab notebook\n",
    "\n",
    "def return_log_err(gauss_mean,gauss_err,num_samples=20000,ignore_negatives=True):\n",
    "    logerr=np.zeros_like(gauss_mean)\n",
    "    for idx, mu in enumerate(gauss_mean):\n",
    "        x=np.random.normal(mu,gauss_err[idx],num_samples)\n",
    "        if ignore_negatives:\n",
    "            while np.any(x<0):\n",
    "                neg_idx=np.where(x<0)[0]\n",
    "                x[neg_idx]=np.random.normal(mu,gauss_err[idx],np.size(neg_idx))\n",
    "        logerr[idx]=np.std(log10(x))\n",
    "    return logerr"
   ]
  },
  {
   "cell_type": "code",
   "execution_count": 2,
   "metadata": {
    "collapsed": false,
    "deletable": true,
    "editable": true
   },
   "outputs": [],
   "source": [
    "outpath=\"../results/pico_esz/\"\n",
    "gset.setup_mmf_config(dataset=\"pico\",outpath=outpath,xsize=10.)"
   ]
  },
  {
   "cell_type": "code",
   "execution_count": 3,
   "metadata": {
    "collapsed": false,
    "deletable": true,
    "editable": true
   },
   "outputs": [
    {
     "data": {
      "text/plain": [
       "{'pico_sims': '/mirror/arotti/simulations/PICO//CMB_PROBE_2017/',\n",
       " 'planck_mmf3_cat': '/mirror/arotti/Planck//COM_PCCS_SZ-Catalogs_vPR2/',\n",
       " 'reduced_pico_sims': '/mirror/arotti/simulations/PICO//reduced_data/',\n",
       " 'result_data': '../results/pico_esz//results/10deg_patches//data/',\n",
       " 'result_figs': '../results/pico_esz//results/10deg_patches//figs/',\n",
       " 'templates': '../results/pico_esz//data/template_bank/10deg_patches/',\n",
       " 'tplanes': '../results/pico_esz//data/tangent_planes/10deg_patches/'}"
      ]
     },
     "execution_count": 3,
     "metadata": {},
     "output_type": "execute_result"
    }
   ],
   "source": [
    "gset.mmfset.paths"
   ]
  },
  {
   "cell_type": "code",
   "execution_count": 4,
   "metadata": {
    "collapsed": false,
    "deletable": true,
    "editable": true
   },
   "outputs": [
    {
     "data": {
      "text/plain": [
       "[21.0,\n",
       " 25.0,\n",
       " 30.0,\n",
       " 36.0,\n",
       " 43.0,\n",
       " 52.0,\n",
       " 62.0,\n",
       " 75.0,\n",
       " 90.0,\n",
       " 110.0,\n",
       " 130.0,\n",
       " 155.0,\n",
       " 185.0,\n",
       " 225.0,\n",
       " 270.0,\n",
       " 320.0,\n",
       " 385.0,\n",
       " 460.0,\n",
       " 555.0,\n",
       " 665.0,\n",
       " 800.0]"
      ]
     },
     "execution_count": 4,
     "metadata": {},
     "output_type": "execute_result"
    }
   ],
   "source": [
    "gec.gset.mmfset.planck_channels"
   ]
  },
  {
   "cell_type": "code",
   "execution_count": 5,
   "metadata": {
    "collapsed": false,
    "deletable": true,
    "editable": true
   },
   "outputs": [
    {
     "ename": "IOError",
     "evalue": "[Errno 2] No such file or directory: '/mirror/arotti/Planck//COM_PCCS_SZ-Catalogs_vPR2/esz_cat_2011.txt'",
     "output_type": "error",
     "traceback": [
      "\u001b[0;31m---------------------------------------------------------------------------\u001b[0m",
      "\u001b[0;31mIOError\u001b[0m                                   Traceback (most recent call last)",
      "\u001b[0;32m<ipython-input-5-4d3c4bd942be>\u001b[0m in \u001b[0;36m<module>\u001b[0;34m()\u001b[0m\n\u001b[0;32m----> 1\u001b[0;31m \u001b[0mgec\u001b[0m\u001b[0;34m.\u001b[0m\u001b[0mextract_tangent_planes\u001b[0m\u001b[0;34m(\u001b[0m\u001b[0;34m)\u001b[0m\u001b[0;34m\u001b[0m\u001b[0m\n\u001b[0m",
      "\u001b[0;32m/Users/adityarotti/Documents/Work/Projects/Relativistic-SZ/MMF-filters-for-rSZ-cluster-detection/Planck_MMF/analysis/modules/data_preprocess/get_esz_cat_pico_tiles.py\u001b[0m in \u001b[0;36mextract_tangent_planes\u001b[0;34m(dryrun, verbose)\u001b[0m\n\u001b[1;32m     13\u001b[0m \u001b[0;32mdef\u001b[0m \u001b[0mextract_tangent_planes\u001b[0m\u001b[0;34m(\u001b[0m\u001b[0mdryrun\u001b[0m\u001b[0;34m=\u001b[0m\u001b[0mFalse\u001b[0m\u001b[0;34m,\u001b[0m\u001b[0mverbose\u001b[0m\u001b[0;34m=\u001b[0m\u001b[0mFalse\u001b[0m\u001b[0;34m)\u001b[0m\u001b[0;34m:\u001b[0m\u001b[0;34m\u001b[0m\u001b[0m\n\u001b[1;32m     14\u001b[0m \u001b[0;34m\u001b[0m\u001b[0m\n\u001b[0;32m---> 15\u001b[0;31m         \u001b[0mxsz_cat\u001b[0m\u001b[0;34m=\u001b[0m\u001b[0mget_tangent_plane_fnames\u001b[0m\u001b[0;34m(\u001b[0m\u001b[0;34m)\u001b[0m\u001b[0;34m\u001b[0m\u001b[0m\n\u001b[0m\u001b[1;32m     16\u001b[0m \u001b[0;34m\u001b[0m\u001b[0m\n\u001b[1;32m     17\u001b[0m         \u001b[0;32mif\u001b[0m \u001b[0mdryrun\u001b[0m\u001b[0;34m:\u001b[0m\u001b[0;34m\u001b[0m\u001b[0m\n",
      "\u001b[0;32m/Users/adityarotti/Documents/Work/Projects/Relativistic-SZ/MMF-filters-for-rSZ-cluster-detection/Planck_MMF/analysis/modules/data_preprocess/get_esz_cat_pico_tiles.py\u001b[0m in \u001b[0;36mget_tangent_plane_fnames\u001b[0;34m()\u001b[0m\n\u001b[1;32m     58\u001b[0m \u001b[0;34m\u001b[0m\u001b[0m\n\u001b[1;32m     59\u001b[0m \u001b[0;32mdef\u001b[0m \u001b[0mget_tangent_plane_fnames\u001b[0m\u001b[0;34m(\u001b[0m\u001b[0;34m)\u001b[0m\u001b[0;34m:\u001b[0m\u001b[0;34m\u001b[0m\u001b[0m\n\u001b[0;32m---> 60\u001b[0;31m     \u001b[0mxsz_cat\u001b[0m\u001b[0;34m=\u001b[0m\u001b[0mget_esz_catalogue\u001b[0m\u001b[0;34m(\u001b[0m\u001b[0;34m)\u001b[0m\u001b[0;34m\u001b[0m\u001b[0m\n\u001b[0m\u001b[1;32m     61\u001b[0m \u001b[0;34m\u001b[0m\u001b[0m\n\u001b[1;32m     62\u001b[0m     \u001b[0mtfname\u001b[0m\u001b[0;34m=\u001b[0m\u001b[0;34m[\u001b[0m\u001b[0mNone\u001b[0m\u001b[0;34m]\u001b[0m\u001b[0;34m*\u001b[0m\u001b[0mnp\u001b[0m\u001b[0;34m.\u001b[0m\u001b[0msize\u001b[0m\u001b[0;34m(\u001b[0m\u001b[0mxsz_cat\u001b[0m\u001b[0;34m[\u001b[0m\u001b[0;34m\"z\"\u001b[0m\u001b[0;34m]\u001b[0m\u001b[0;34m)\u001b[0m\u001b[0;34m\u001b[0m\u001b[0m\n",
      "\u001b[0;32m/Users/adityarotti/Documents/Work/Projects/Relativistic-SZ/MMF-filters-for-rSZ-cluster-detection/Planck_MMF/analysis/modules/data_preprocess/get_esz_cat_pico_tiles.py\u001b[0m in \u001b[0;36mget_esz_catalogue\u001b[0;34m()\u001b[0m\n\u001b[1;32m     73\u001b[0m \u001b[0;32mdef\u001b[0m \u001b[0mget_esz_catalogue\u001b[0m\u001b[0;34m(\u001b[0m\u001b[0;34m)\u001b[0m\u001b[0;34m:\u001b[0m\u001b[0;34m\u001b[0m\u001b[0m\n\u001b[1;32m     74\u001b[0m         \u001b[0mdtype\u001b[0m\u001b[0;34m=\u001b[0m\u001b[0;34m[\u001b[0m\u001b[0;34m\"T500\"\u001b[0m\u001b[0;34m,\u001b[0m\u001b[0;34m\"T500_err\"\u001b[0m\u001b[0;34m,\u001b[0m\u001b[0;34m\"z\"\u001b[0m\u001b[0;34m,\u001b[0m\u001b[0;34m\"Mg500\"\u001b[0m\u001b[0;34m,\u001b[0m\u001b[0;34m\"Mg500_err\"\u001b[0m\u001b[0;34m,\u001b[0m\u001b[0;34m\"M500\"\u001b[0m\u001b[0;34m,\u001b[0m\u001b[0;34m\"M500_err\"\u001b[0m\u001b[0;34m,\u001b[0m\u001b[0;34m\"RA\"\u001b[0m\u001b[0;34m,\u001b[0m\u001b[0;34m\"DEC\"\u001b[0m\u001b[0;34m,\u001b[0m\u001b[0;34m\"R500\"\u001b[0m\u001b[0;34m,\u001b[0m\u001b[0;34m\"YSZ_500\"\u001b[0m\u001b[0;34m,\u001b[0m\u001b[0;34m\"YSZ_500_err\"\u001b[0m\u001b[0;34m,\u001b[0m\u001b[0;34m\"YX_500\"\u001b[0m\u001b[0;34m,\u001b[0m\u001b[0;34m\"YX_500_err\"\u001b[0m\u001b[0;34m]\u001b[0m\u001b[0;34m\u001b[0m\u001b[0m\n\u001b[0;32m---> 75\u001b[0;31m         \u001b[0mcat\u001b[0m\u001b[0;34m=\u001b[0m\u001b[0mnp\u001b[0m\u001b[0;34m.\u001b[0m\u001b[0mloadtxt\u001b[0m\u001b[0;34m(\u001b[0m\u001b[0mgset\u001b[0m\u001b[0;34m.\u001b[0m\u001b[0mmmfset\u001b[0m\u001b[0;34m.\u001b[0m\u001b[0mesz_cat_2011_file\u001b[0m\u001b[0;34m)\u001b[0m\u001b[0;34m\u001b[0m\u001b[0m\n\u001b[0m\u001b[1;32m     76\u001b[0m         \u001b[0mxsz_cat\u001b[0m\u001b[0;34m=\u001b[0m\u001b[0;34m{\u001b[0m\u001b[0;34m}\u001b[0m\u001b[0;34m\u001b[0m\u001b[0m\n\u001b[1;32m     77\u001b[0m         \u001b[0;32mfor\u001b[0m \u001b[0midx\u001b[0m\u001b[0;34m,\u001b[0m\u001b[0md\u001b[0m \u001b[0;32min\u001b[0m \u001b[0menumerate\u001b[0m\u001b[0;34m(\u001b[0m\u001b[0mdtype\u001b[0m\u001b[0;34m)\u001b[0m\u001b[0;34m:\u001b[0m\u001b[0;34m\u001b[0m\u001b[0m\n",
      "\u001b[0;32m/Users/adityarotti/Library/Enthought/Canopy/edm/envs/User/lib/python2.7/site-packages/numpy/lib/npyio.pyc\u001b[0m in \u001b[0;36mloadtxt\u001b[0;34m(fname, dtype, comments, delimiter, converters, skiprows, usecols, unpack, ndmin)\u001b[0m\n\u001b[1;32m    894\u001b[0m                 \u001b[0mfh\u001b[0m \u001b[0;34m=\u001b[0m \u001b[0miter\u001b[0m\u001b[0;34m(\u001b[0m\u001b[0mbz2\u001b[0m\u001b[0;34m.\u001b[0m\u001b[0mBZ2File\u001b[0m\u001b[0;34m(\u001b[0m\u001b[0mfname\u001b[0m\u001b[0;34m)\u001b[0m\u001b[0;34m)\u001b[0m\u001b[0;34m\u001b[0m\u001b[0m\n\u001b[1;32m    895\u001b[0m             \u001b[0;32melif\u001b[0m \u001b[0msys\u001b[0m\u001b[0;34m.\u001b[0m\u001b[0mversion_info\u001b[0m\u001b[0;34m[\u001b[0m\u001b[0;36m0\u001b[0m\u001b[0;34m]\u001b[0m \u001b[0;34m==\u001b[0m \u001b[0;36m2\u001b[0m\u001b[0;34m:\u001b[0m\u001b[0;34m\u001b[0m\u001b[0m\n\u001b[0;32m--> 896\u001b[0;31m                 \u001b[0mfh\u001b[0m \u001b[0;34m=\u001b[0m \u001b[0miter\u001b[0m\u001b[0;34m(\u001b[0m\u001b[0mopen\u001b[0m\u001b[0;34m(\u001b[0m\u001b[0mfname\u001b[0m\u001b[0;34m,\u001b[0m \u001b[0;34m'U'\u001b[0m\u001b[0;34m)\u001b[0m\u001b[0;34m)\u001b[0m\u001b[0;34m\u001b[0m\u001b[0m\n\u001b[0m\u001b[1;32m    897\u001b[0m             \u001b[0;32melse\u001b[0m\u001b[0;34m:\u001b[0m\u001b[0;34m\u001b[0m\u001b[0m\n\u001b[1;32m    898\u001b[0m                 \u001b[0mfh\u001b[0m \u001b[0;34m=\u001b[0m \u001b[0miter\u001b[0m\u001b[0;34m(\u001b[0m\u001b[0mopen\u001b[0m\u001b[0;34m(\u001b[0m\u001b[0mfname\u001b[0m\u001b[0;34m)\u001b[0m\u001b[0;34m)\u001b[0m\u001b[0;34m\u001b[0m\u001b[0m\n",
      "\u001b[0;31mIOError\u001b[0m: [Errno 2] No such file or directory: '/mirror/arotti/Planck//COM_PCCS_SZ-Catalogs_vPR2/esz_cat_2011.txt'"
     ]
    }
   ],
   "source": [
    "gec.extract_tangent_planes()"
   ]
  },
  {
   "cell_type": "code",
   "execution_count": null,
   "metadata": {
    "collapsed": true
   },
   "outputs": [],
   "source": []
  }
 ],
 "metadata": {
  "kernelspec": {
   "display_name": "Python 2",
   "language": "python",
   "name": "python2"
  },
  "language_info": {
   "codemirror_mode": {
    "name": "ipython",
    "version": 2
   },
   "file_extension": ".py",
   "mimetype": "text/x-python",
   "name": "python",
   "nbconvert_exporter": "python",
   "pygments_lexer": "ipython2",
   "version": "2.7.13"
  },
  "toc": {
   "base_numbering": 1,
   "nav_menu": {},
   "number_sections": true,
   "sideBar": true,
   "skip_h1_title": false,
   "title_cell": "Table of Contents",
   "title_sidebar": "Contents",
   "toc_cell": false,
   "toc_position": {},
   "toc_section_display": true,
   "toc_window_display": true
  }
 },
 "nbformat": 4,
 "nbformat_minor": 2
}
