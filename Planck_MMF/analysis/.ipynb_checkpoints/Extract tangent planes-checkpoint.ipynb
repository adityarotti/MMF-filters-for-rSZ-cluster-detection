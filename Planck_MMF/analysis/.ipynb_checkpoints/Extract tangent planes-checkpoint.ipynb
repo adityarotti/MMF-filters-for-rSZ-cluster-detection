{
 "cells": [
  {
   "cell_type": "code",
   "execution_count": 3,
   "metadata": {
    "collapsed": false
   },
   "outputs": [],
   "source": [
    "from data_preprocess import preprocess_planck_data as ppd\n",
    "from data_preprocess import get_tangent_planes as gtp\n",
    "from settings import mmf_settings as mmfset\n",
    "from astropy.io import fits"
   ]
  },
  {
   "cell_type": "code",
   "execution_count": 4,
   "metadata": {
    "collapsed": false
   },
   "outputs": [
    {
     "data": {
      "text/plain": [
       "'/Users/adityarotti/Documents/Work/Projects/Relativistic-SZ/MMF-filters-for-rSZ-cluster-detection/Planck_MMF/'"
      ]
     },
     "execution_count": 4,
     "metadata": {},
     "output_type": "execute_result"
    }
   ],
   "source": [
    "mmfset.dataout_dir"
   ]
  },
  {
   "cell_type": "code",
   "execution_count": null,
   "metadata": {
    "collapsed": true
   },
   "outputs": [],
   "source": [
    "ppd.extract_tangent_planes(verbose=True,do_data=True,do_mask=True)\n",
    "\n",
    "filename=mmfset.dataout_dir + \"/data/tangent_planes/planck/10deg_patches/cluster_G340.88-33.36.fits\"\n",
    "\n",
    "data=gtp.return_data(filename)\n",
    "data1=fits.getdata(\"../../../mmf3/data/tangent_planes/planck/10deg_patches/cluster_G340.88-33.36.fits\")\n",
    "\n",
    "f1=fits.open(filename)\n",
    "f1.info()\n",
    "\n",
    "figure()\n",
    "imshow(data[5,])\n",
    "colorbar()\n",
    "\n",
    "figure()\n",
    "imshow(data1[5,])\n",
    "colorbar()"
   ]
  }
 ],
 "metadata": {
  "kernelspec": {
   "display_name": "Python 2",
   "language": "python",
   "name": "python2"
  },
  "language_info": {
   "codemirror_mode": {
    "name": "ipython",
    "version": 2
   },
   "file_extension": ".py",
   "mimetype": "text/x-python",
   "name": "python",
   "nbconvert_exporter": "python",
   "pygments_lexer": "ipython2",
   "version": "2.7.13"
  },
  "toc": {
   "base_numbering": 1,
   "nav_menu": {},
   "number_sections": true,
   "sideBar": true,
   "skip_h1_title": false,
   "title_cell": "Table of Contents",
   "title_sidebar": "Contents",
   "toc_cell": false,
   "toc_position": {},
   "toc_section_display": true,
   "toc_window_display": true
  }
 },
 "nbformat": 4,
 "nbformat_minor": 2
}
