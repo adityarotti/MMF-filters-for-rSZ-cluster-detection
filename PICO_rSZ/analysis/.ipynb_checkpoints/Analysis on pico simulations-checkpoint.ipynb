{
 "cells": [
  {
   "cell_type": "code",
   "execution_count": 1,
   "metadata": {
    "collapsed": false,
    "deletable": true,
    "editable": true,
    "scrolled": true
   },
   "outputs": [
    {
     "name": "stdout",
     "output_type": "stream",
     "text": [
      "Populating the interactive namespace from numpy and matplotlib\n"
     ]
    }
   ],
   "source": [
    "%pylab notebook\n",
    "from modules.simulate import cluster_templates as cltemp\n",
    "from modules.settings import mmf_settings as mmfset\n",
    "from modules.simulate.spatial_template import sim_cluster as sc\n",
    "from modules.cosmology import cosmo_fn as clcosmo\n",
    "from modules.flat_sky_codes import flat_sky_analysis as fsa\n",
    "from modules.filters import modular_multi_matched_filter as mmf\n",
    "from modules.masking import gen_masks as gm\n",
    "from modules.simulate import simulate_multi_channel_cluster as smcc\n",
    "from modules.data_preprocess import get_tangent_planes as gtp\n",
    "from astropy.io import fits\n",
    "import time\n",
    "import os"
   ]
  },
  {
   "cell_type": "markdown",
   "metadata": {
    "deletable": true,
    "editable": true
   },
   "source": [
    "# Initialize analysis"
   ]
  },
  {
   "cell_type": "code",
   "execution_count": 2,
   "metadata": {
    "collapsed": true,
    "deletable": true,
    "editable": true
   },
   "outputs": [],
   "source": [
    "mmfset.init()"
   ]
  },
  {
   "cell_type": "code",
   "execution_count": 3,
   "metadata": {
    "collapsed": false,
    "deletable": true,
    "editable": true
   },
   "outputs": [],
   "source": [
    "tmplt=cltemp.cluster_spectro_spatial_templates(T_step=1.,T_max=30.,theta_step=1)\n",
    "tmplt.setup_templates()\n",
    "op=mmf.multi_matched_filter(tmplt.sp_ft_bank,tmplt.sz_spec_bank,tmplt.chfiltr,tmplt.fn_yerr_norm)\n",
    "emask=gm.return_edge_apodized_mask()"
   ]
  },
  {
   "cell_type": "code",
   "execution_count": 8,
   "metadata": {
    "collapsed": false
   },
   "outputs": [
    {
     "data": {
      "text/plain": [
       "array([  36.,   43.,   52.,  110.,  130.,  155.,  270.,  320.,  385.,  460.])"
      ]
     },
     "execution_count": 8,
     "metadata": {},
     "output_type": "execute_result"
    }
   ],
   "source": [
    "mmfset.channels"
   ]
  },
  {
   "cell_type": "markdown",
   "metadata": {
    "deletable": true,
    "editable": true
   },
   "source": [
    "# Simulate multi-frequency cluster maps"
   ]
  },
  {
   "cell_type": "code",
   "execution_count": 9,
   "metadata": {
    "collapsed": false,
    "deletable": true,
    "editable": true
   },
   "outputs": [],
   "source": [
    "cluster,Tc,thetac=smcc.return_mc_cluster(10,0.1,op=tmplt)"
   ]
  },
  {
   "cell_type": "code",
   "execution_count": 10,
   "metadata": {
    "collapsed": false
   },
   "outputs": [
    {
     "data": {
      "text/plain": [
       "(9.0780646343087881, 12.360827789052136)"
      ]
     },
     "execution_count": 10,
     "metadata": {},
     "output_type": "execute_result"
    }
   ],
   "source": [
    "Tc, thetac"
   ]
  },
  {
   "cell_type": "code",
   "execution_count": 11,
   "metadata": {
    "collapsed": false,
    "deletable": true,
    "editable": true
   },
   "outputs": [],
   "source": [
    "# #Tc=8. \n",
    "# redshift=0.1\n",
    "# thetac=clcosmo.convert_T500_theta500(Tc,redshift); print thetac\n",
    "# template=sc.gen_cluster_template(mmfset.npix,thetac,mmfset.reso,y0=1e-4)\n",
    "# temp_ft=fsa.map2alm(template,mmfset.reso)\n",
    "\n",
    "# template_ft=np.zeros((np.size(mmfset.channels),mmfset.npix,mmfset.npix),complex)\n",
    "# cluster=np.zeros((np.size(mmfset.channels),mmfset.npix,mmfset.npix),float)\n",
    "# for i, ch in enumerate(mmfset.channels):\n",
    "#     template_ft[i,:,:]=temp_ft*tmplt.chfiltr[ch]*tmplt.sz_op.fn_sz_2d_T(Tc,ch)\n",
    "#     cluster[i,:,:]=fsa.alm2map(template_ft[i,:,:],mmfset.reso)"
   ]
  },
  {
   "cell_type": "markdown",
   "metadata": {
    "deletable": true,
    "editable": true
   },
   "source": [
    "# CMB + FRG + NOISE + SZ "
   ]
  },
  {
   "cell_type": "code",
   "execution_count": 17,
   "metadata": {
    "collapsed": false,
    "deletable": true,
    "editable": true
   },
   "outputs": [],
   "source": [
    "filename=\"../data/tangent_planes/pico_sims/10deg_patches/cmbfrg_pico_sim_tplane_1.fits\"\n",
    "#cmbfrg=fits.getdata(filename,ext=2)\n",
    "cmbfrg=gtp.return_data(filename)[0]\n",
    "filename=\"../data/tangent_planes/pico_sims/10deg_patches/noise_pico_sim_tplane_1.fits\"\n",
    "#noise=fits.getdata(filename,ext=2)\n",
    "noise=gtp.return_data(filename)[0]\n",
    "data=cmbfrg[:,:,:] + noise[:,:,:] + cluster"
   ]
  },
  {
   "cell_type": "code",
   "execution_count": 20,
   "metadata": {
    "collapsed": false,
    "deletable": true,
    "editable": true
   },
   "outputs": [
    {
     "name": "stdout",
     "output_type": "stream",
     "text": [
      "convert -quality 99 -density 150 -delay 120 -loop 0 ./jpeg/cmb_frg_noise_sz_*.jpeg cmb_frg_noise_sz.gif\n",
      "rm ./jpeg/*.jpeg\n"
     ]
    }
   ],
   "source": [
    "mmfset.ensure_dir(mmfset.paths[\"result_figs\"] + \"/jpeg/\")\n",
    "for i, ch in enumerate(mmfset.channels):\n",
    "    ioff()\n",
    "    figure()\n",
    "    err=std((data[i,]*1e6).ravel())\n",
    "    imshow(data[i,]*1e6,vmin=-8*err,vmax=8*err,origin=\"lower\")\n",
    "    colorbar()\n",
    "    title(str(int(ch))+ \" GHz\" + \"  [\" + \"fwhm=\" + str(round(mmfset.fwhm[ch],2)) + \" arcmin ]\")\n",
    "    filename=mmfset.paths[\"result_figs\"] + \"/jpeg/\" + \"cmb_frg_noise_sz_\" + str(i).zfill(2) + \".jpeg\"\n",
    "    savefig(filename,bbox_inches=\"tight\")\n",
    "    \n",
    "workdir=os.getcwd()\n",
    "os.chdir(mmfset.paths[\"result_figs\"])\n",
    "cmd=\"convert -quality 99 -density 150 -delay 120 -loop 0 ./jpeg/cmb_frg_noise_sz_*.jpeg cmb_frg_noise_sz.gif\"\n",
    "print cmd\n",
    "os.system(cmd)\n",
    "cmd=\"rm ./jpeg/*.jpeg\"\n",
    "print cmd\n",
    "os.system(cmd)\n",
    "os.chdir(workdir)"
   ]
  },
  {
   "cell_type": "markdown",
   "metadata": {
    "deletable": true,
    "editable": true
   },
   "source": [
    "## Initialize the mmf filter"
   ]
  },
  {
   "cell_type": "code",
   "execution_count": 21,
   "metadata": {
    "collapsed": false,
    "deletable": true,
    "editable": true
   },
   "outputs": [
    {
     "name": "stdout",
     "output_type": "stream",
     "text": [
      "21.2029430866\n"
     ]
    }
   ],
   "source": [
    "start=time.time()\n",
    "smwin=5\n",
    "op.get_data_ft(data*emask,smwin=smwin)\n",
    "print time.time()-start"
   ]
  },
  {
   "cell_type": "markdown",
   "metadata": {
    "deletable": true,
    "editable": true
   },
   "source": [
    "### Finding optimal cluster radius."
   ]
  },
  {
   "cell_type": "code",
   "execution_count": 22,
   "metadata": {
    "collapsed": false,
    "deletable": true,
    "editable": true
   },
   "outputs": [
    {
     "name": "stdout",
     "output_type": "stream",
     "text": [
      "65.0053958893\n"
     ]
    }
   ],
   "source": [
    "start=time.time()\n",
    "filename=mmfset.paths[\"result_data\"] + \"sz_cmb_noise_otheta500.fits\"\n",
    "xtheta500=op.return_optimal_theta500(Tc=np.round(Tc),write_data=True,filename=filename)\n",
    "print time.time()-start\n",
    "\n",
    "figure()\n",
    "plot(tmplt.theta500,xtheta500[4][1,],\"o-\",label=\"$T_c=$\" +str(Tc))\n",
    "axvline(thetac,color=\"black\",linestyle=\"dashed\")\n",
    "legend(loc=0,title=\"SZ+CMB+FRG+NOISE\")\n",
    "xlabel(r\"$\\theta_c$ arcminutes\")\n",
    "ylabel(\"SNR\")\n",
    "grid(alpha=0.6,linestyle=\"dashed\")\n",
    "filename=mmfset.paths[\"result_figs\"] + \"sz_cmb_frg_noise_otheta500.pdf\"\n",
    "savefig(filename,bbox_inches=\"tight\")"
   ]
  },
  {
   "cell_type": "markdown",
   "metadata": {
    "deletable": true,
    "editable": true
   },
   "source": [
    "### Finding optimal cluster temperature."
   ]
  },
  {
   "cell_type": "code",
   "execution_count": 23,
   "metadata": {
    "collapsed": false,
    "deletable": true,
    "editable": true
   },
   "outputs": [
    {
     "name": "stdout",
     "output_type": "stream",
     "text": [
      "37.6523008347\n"
     ]
    }
   ],
   "source": [
    "start=time.time()\n",
    "filename=mmfset.paths[\"result_data\"] + \"sz_cmb_noise_oT500.fits\"\n",
    "xT500=op.return_optimal_T500(thetac=tmplt.theta500[(np.abs(tmplt.theta500 - xtheta500[3])).argmin()],write_data=True,filename=filename)\n",
    "print time.time()-start\n",
    "\n",
    "figure()\n",
    "plot(tmplt.T500,xT500[4][1,],\"o-\",label=r\"$\\theta_c=$\" +str(round(xtheta500[3],0)) + \" arcminutes\")\n",
    "axvline(Tc,color=\"black\",linestyle=\"dashed\")\n",
    "legend(loc=0,title=\"SZ+CMB+FRG+NOISE\")\n",
    "xlabel(r\"$T_c$ keV\")\n",
    "ylabel(\"SNR\")\n",
    "grid(alpha=0.6,linestyle=\"dashed\")\n",
    "filename=mmfset.paths[\"result_figs\"] + \"sz_cmb_frg_noise_oT500.pdf\"\n",
    "savefig(filename,bbox_inches=\"tight\")"
   ]
  },
  {
   "cell_type": "markdown",
   "metadata": {
    "deletable": true,
    "editable": true
   },
   "source": [
    "### Simultaenuously solving for cluster radius and temperature"
   ]
  },
  {
   "cell_type": "code",
   "execution_count": 61,
   "metadata": {
    "collapsed": false,
    "deletable": true,
    "editable": true
   },
   "outputs": [],
   "source": [
    "filename=mmfset.paths[\"result_data\"] + \"sz_cmb_frg_noise_T500_theta500.fits\"\n",
    "x1=op.eval_mmf_theta500_T500(write_data=True,filename=filename)\n",
    "\n",
    "figure()\n",
    "for i in range(np.size(tmplt.T500)):\n",
    "    plot(tmplt.theta500,x1[2][1,:,i],label=str(tmplt.T500[i]) + \" keV\",lw=2)\n",
    "\n",
    "legend(loc=0,fontsize=5,ncol=3,title=\"SZ + CMB + FRG + NOISE\")\n",
    "grid(alpha=0.6)\n",
    "xlabel(r\"$\\theta_{500}$\" + \" arcminutes\")\n",
    "ylabel(\"SNR\")\n",
    "axvline(thetac,color=\"black\",linestyle=\"dashed\")\n",
    "filename=mmfset.paths[\"result_figs\"] + \"sz_cmb_frg_noise_grid.pdf\"\n",
    "savefig(filename,bbox_inches=\"tight\")\n",
    "\n",
    "figure()\n",
    "imshow(x1[2][1,],extent=[tmplt.T_min,tmplt.T_max,tmplt.theta500_min,tmplt.theta500_max],interpolation=\"bilinear\",origin=\"lower\")\n",
    "colorbar()\n",
    "xlabel(\"$T_{500}$ keV\")\n",
    "ylabel(r\"$\\theta_{500}$ arcminutes\")\n",
    "title(\"SZ + CMB + FRG + NOISE\")\n",
    "filename=mmfset.paths[\"result_figs\"] + \"SNRMAP_sz_cmb_frg_noise.pdf\"\n",
    "savefig(filename,bbox_inches=\"tight\")"
   ]
  },
  {
   "cell_type": "markdown",
   "metadata": {
    "deletable": true,
    "editable": true
   },
   "source": [
    "### Filtered data"
   ]
  },
  {
   "cell_type": "code",
   "execution_count": 62,
   "metadata": {
    "collapsed": false,
    "deletable": true,
    "editable": true
   },
   "outputs": [],
   "source": [
    "max_snr=max((x1[2][1,]).ravel())\n",
    "x,y=np.where(x1[2][1,] == max_snr)\n",
    "\n",
    "fdata,err,snr,yc=op.return_snr(tmplt.theta500[x[0]],tmplt.T500[y[0]])\n",
    "\n",
    "figure()\n",
    "imshow(fdata,origin=\"lower\")\n",
    "colorbar()\n",
    "filename=mmfset.paths[\"result_figs\"] + \"sz_cmb_frg_noise_filtered_data_best_param.pdf\"\n",
    "savefig(filename,bbox_inches=\"tight\")"
   ]
  },
  {
   "cell_type": "markdown",
   "metadata": {
    "deletable": true,
    "editable": true
   },
   "source": [
    "# CMB + FRG + SZ "
   ]
  },
  {
   "cell_type": "code",
   "execution_count": 63,
   "metadata": {
    "collapsed": true,
    "deletable": true,
    "editable": true
   },
   "outputs": [],
   "source": [
    "filename=\"../data/tangent_planes/pico_sims/10deg_patches/cmbfrg_pico_sim_tplane_1.fits\"\n",
    "cmbfrg=fits.getdata(filename,ext=2)\n",
    "filename=\"../data/tangent_planes/pico_sims/10deg_patches/noise_pico_sim_tplane_1.fits\"\n",
    "noise=fits.getdata(filename,ext=2)\n",
    "data=cmbfrg[:,:,:] + cluster"
   ]
  },
  {
   "cell_type": "code",
   "execution_count": 64,
   "metadata": {
    "collapsed": false,
    "deletable": true,
    "editable": true
   },
   "outputs": [
    {
     "name": "stdout",
     "output_type": "stream",
     "text": [
      "convert -quality 99 -density 150 -delay 120 -loop 0 ./jpeg/cmb_frg_sz_*.jpeg cmb_frg_sz.gif\n"
     ]
    }
   ],
   "source": [
    "mmfset.ensure_dir(mmfset.paths[\"result_figs\"] + \"/jpeg/\")\n",
    "for i, ch in enumerate(mmfset.channels):\n",
    "    ioff()\n",
    "    figure()\n",
    "    err=std((data[i,]*1e6).ravel())\n",
    "    imshow(data[i,]*1e6,vmin=-8*err,vmax=8*err,origin=\"lower\")\n",
    "    colorbar()\n",
    "    title(str(int(ch))+ \" GHz\" + \"  [\" + \"fwhm=\" + str(round(mmfset.fwhm[ch],2)) + \" arcmin]\")\n",
    "    filename=mmfset.paths[\"result_figs\"] + \"/jpeg/\" + \"cmb_frg_sz_\" + str(i).zfill(2) + \".jpeg\"\n",
    "    savefig(filename,bbox_inches=\"tight\")\n",
    "    \n",
    "workdir=os.getcwd()\n",
    "os.chdir(mmfset.paths[\"result_figs\"])\n",
    "cmd=\"convert -quality 99 -density 150 -delay 120 -loop 0 ./jpeg/cmb_frg_sz_*.jpeg cmb_frg_sz.gif\"\n",
    "print cmd\n",
    "os.system(cmd)\n",
    "os.chdir(workdir)"
   ]
  },
  {
   "cell_type": "markdown",
   "metadata": {
    "deletable": true,
    "editable": true
   },
   "source": [
    "## Initialize the mmf filter"
   ]
  },
  {
   "cell_type": "code",
   "execution_count": 65,
   "metadata": {
    "collapsed": false,
    "deletable": true,
    "editable": true
   },
   "outputs": [
    {
     "name": "stdout",
     "output_type": "stream",
     "text": [
      "85.1159691811\n"
     ]
    }
   ],
   "source": [
    "start=time.time()\n",
    "smwin=5\n",
    "op.get_data_ft(data*emask,smwin=smwin)\n",
    "print time.time()-start"
   ]
  },
  {
   "cell_type": "markdown",
   "metadata": {
    "deletable": true,
    "editable": true
   },
   "source": [
    "### Finding optimal cluster radius."
   ]
  },
  {
   "cell_type": "code",
   "execution_count": 66,
   "metadata": {
    "collapsed": false,
    "deletable": true,
    "editable": true
   },
   "outputs": [
    {
     "name": "stdout",
     "output_type": "stream",
     "text": [
      "89.1718859673\n"
     ]
    }
   ],
   "source": [
    "start=time.time()\n",
    "filename=mmfset.paths[\"result_data\"] + \"sz_cmb_frg_otheta500.fits\"\n",
    "xtheta500=op.return_optimal_theta500(Tc=Tc,write_data=True,filename=filename)\n",
    "print time.time()-start\n",
    "\n",
    "figure()\n",
    "plot(tmplt.theta500,xtheta500[4][1,],\"o-\",label=\"$T_c=$\" +str(Tc))\n",
    "axvline(thetac,color=\"black\",linestyle=\"dashed\")\n",
    "legend(loc=0,title=\"SZ+CMB+FRG\")\n",
    "xlabel(r\"$\\theta_c$ arcminutes\")\n",
    "ylabel(\"SNR\")\n",
    "grid(alpha=0.6,linestyle=\"dashed\")\n",
    "filename=mmfset.paths[\"result_figs\"] + \"sz_cmb_frg_otheta500.pdf\"\n",
    "savefig(filename,bbox_inches=\"tight\")"
   ]
  },
  {
   "cell_type": "markdown",
   "metadata": {
    "deletable": true,
    "editable": true
   },
   "source": [
    "### Finding optimal cluster temperature."
   ]
  },
  {
   "cell_type": "code",
   "execution_count": 67,
   "metadata": {
    "collapsed": false,
    "deletable": true,
    "editable": true
   },
   "outputs": [
    {
     "name": "stdout",
     "output_type": "stream",
     "text": [
      "52.8140649796\n"
     ]
    }
   ],
   "source": [
    "start=time.time()\n",
    "filename=mmfset.paths[\"result_data\"] + \"sz_cmb_frg_oT500.fits\"\n",
    "xT500=op.return_optimal_T500(thetac=tmplt.theta500[(np.abs(tmplt.theta500 - xtheta500[3])).argmin()],write_data=True,filename=filename)\n",
    "print time.time()-start\n",
    "\n",
    "figure()\n",
    "plot(tmplt.T500,xT500[4][1,],\"o-\",label=r\"$\\theta_c=$\" +str(round(xtheta500[3],0)) + \" arcminutes\")\n",
    "axvline(Tc,color=\"black\",linestyle=\"dashed\")\n",
    "legend(loc=0,title=\"SZ+CMB+FRG\")\n",
    "xlabel(r\"$T_c$ keV\")\n",
    "ylabel(\"SNR\")\n",
    "grid(alpha=0.6,linestyle=\"dashed\")\n",
    "filename=mmfset.paths[\"result_figs\"] + \"sz_cmb_frg_oT500.pdf\"\n",
    "savefig(filename,bbox_inches=\"tight\")"
   ]
  },
  {
   "cell_type": "markdown",
   "metadata": {
    "deletable": true,
    "editable": true
   },
   "source": [
    "### Simultaenuously solving for cluster radius and temperature"
   ]
  },
  {
   "cell_type": "code",
   "execution_count": null,
   "metadata": {
    "collapsed": true,
    "deletable": true,
    "editable": true
   },
   "outputs": [],
   "source": [
    "filename=mmfset.paths[\"result_data\"] + \"sz_cmb_frg_T500_theta500.fits\"\n",
    "x1=op.eval_mmf_theta500_T500(write_data=True,filename=filename)\n",
    "\n",
    "figure()\n",
    "for i in range(np.size(tmplt.T500)):\n",
    "    plot(tmplt.theta500,x1[2][1,:,i],label=str(tmplt.T500[i]) + \" keV\",lw=2)\n",
    "\n",
    "legend(loc=0,fontsize=5,ncol=3,title=\"SZ + CMB + FRG\")\n",
    "grid(alpha=0.6)\n",
    "xlabel(r\"$\\theta_{500}$\" + \" arcminutes\")\n",
    "ylabel(\"SNR\")\n",
    "axvline(thetac,color=\"black\",linestyle=\"dashed\")\n",
    "filename=mmfset.paths[\"result_figs\"] + \"sz_cmb_frg_grid.pdf\"\n",
    "savefig(filename,bbox_inches=\"tight\")\n",
    "\n",
    "figure()\n",
    "imshow(x1[2][1,],extent=[tmplt.T_min,tmplt.T_max,tmplt.theta500_min,tmplt.theta500_max],interpolation=\"bilinear\",origin=\"lower\")\n",
    "colorbar()\n",
    "xlabel(\"$T_{500}$ keV\")\n",
    "ylabel(r\"$\\theta_{500}$ arcminutes\")\n",
    "title(\"SZ + CMB + FRG\")\n",
    "filename=mmfset.paths[\"result_figs\"] + \"SNRMAP_sz_cmb_frg.pdf\"\n",
    "savefig(filename,bbox_inches=\"tight\")"
   ]
  },
  {
   "cell_type": "markdown",
   "metadata": {
    "deletable": true,
    "editable": true
   },
   "source": [
    "### Filtered data"
   ]
  },
  {
   "cell_type": "code",
   "execution_count": null,
   "metadata": {
    "collapsed": true,
    "deletable": true,
    "editable": true
   },
   "outputs": [],
   "source": [
    "max_snr=max((x1[2][1,]).ravel())\n",
    "x,y=np.where(x1[2][1,] == max_snr)\n",
    "\n",
    "fdata,err,snr,yc=op.return_snr(tmplt.theta500[x[0]],tmplt.T500[y[0]])\n",
    "\n",
    "figure()\n",
    "imshow(fdata,origin=\"lower\")\n",
    "colorbar()\n",
    "filename=mmfset.paths[\"result_figs\"] + \"sz_cmb_frg_filtered_data_best_param.pdf\"\n",
    "savefig(filename,bbox_inches=\"tight\")"
   ]
  },
  {
   "cell_type": "code",
   "execution_count": null,
   "metadata": {
    "collapsed": true,
    "deletable": true,
    "editable": true
   },
   "outputs": [],
   "source": []
  },
  {
   "cell_type": "code",
   "execution_count": null,
   "metadata": {
    "collapsed": true,
    "deletable": true,
    "editable": true
   },
   "outputs": [],
   "source": []
  }
 ],
 "metadata": {
  "kernelspec": {
   "display_name": "Python 2",
   "language": "python",
   "name": "python2"
  },
  "language_info": {
   "codemirror_mode": {
    "name": "ipython",
    "version": 2
   },
   "file_extension": ".py",
   "mimetype": "text/x-python",
   "name": "python",
   "nbconvert_exporter": "python",
   "pygments_lexer": "ipython2",
   "version": "2.7.13"
  },
  "toc": {
   "base_numbering": 1,
   "nav_menu": {},
   "number_sections": true,
   "sideBar": true,
   "skip_h1_title": false,
   "title_cell": "Table of Contents",
   "title_sidebar": "Contents",
   "toc_cell": false,
   "toc_position": {},
   "toc_section_display": true,
   "toc_window_display": true
  }
 },
 "nbformat": 4,
 "nbformat_minor": 2
}
